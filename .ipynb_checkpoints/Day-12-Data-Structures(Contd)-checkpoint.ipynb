{
 "cells": [
  {
   "cell_type": "markdown",
   "id": "82d3f700",
   "metadata": {},
   "source": [
    "### Set Data Structure\n",
    "    - Set is a python data structure\n",
    "    - Set contains collection of elements which is unordered and unindexed\n",
    "    - Set is represented by \"{}\"\n",
    "    - Set is a mutable data structure\n",
    "    - Set does not allow duplicate elements"
   ]
  },
  {
   "cell_type": "code",
   "execution_count": 1,
   "id": "d5ebad0b",
   "metadata": {},
   "outputs": [
    {
     "name": "stdout",
     "output_type": "stream",
     "text": [
      "{1, 2, 3}\n",
      "<class 'set'>\n"
     ]
    }
   ],
   "source": [
    "setDemo = {1, 2, 3}\n",
    "print(setDemo)\n",
    "print(type(setDemo))"
   ]
  },
  {
   "cell_type": "code",
   "execution_count": 2,
   "id": "6963c7aa",
   "metadata": {},
   "outputs": [
    {
     "name": "stdout",
     "output_type": "stream",
     "text": [
      "{1, 2, 67, 3, 4, 100, 11}\n"
     ]
    }
   ],
   "source": [
    "set1 = {1, 2, 3, 4, 11, 67, 1, 2, 3, 100}\n",
    "print(set1)"
   ]
  },
  {
   "cell_type": "code",
   "execution_count": 3,
   "id": "61b5b6f9",
   "metadata": {},
   "outputs": [
    {
     "name": "stdout",
     "output_type": "stream",
     "text": [
      "Max value of set: 100\n"
     ]
    }
   ],
   "source": [
    "# max() ---> returns the max value of the set\n",
    "\n",
    "print(f\"Max value of set: {max(set1)}\")"
   ]
  },
  {
   "cell_type": "code",
   "execution_count": 4,
   "id": "0e467f12",
   "metadata": {},
   "outputs": [
    {
     "name": "stdout",
     "output_type": "stream",
     "text": [
      "Min value of set: 1\n"
     ]
    }
   ],
   "source": [
    "# min() ---> returns the min value of the set\n",
    "\n",
    "print(f\"Min value of set: {min(set1)}\")"
   ]
  },
  {
   "cell_type": "code",
   "execution_count": 5,
   "id": "9669caba",
   "metadata": {},
   "outputs": [
    {
     "name": "stdout",
     "output_type": "stream",
     "text": [
      "Sum value of set: 188\n"
     ]
    }
   ],
   "source": [
    "# sum()---> returns the sum of the set\n",
    "\n",
    "print(f\"Sum value of set: {sum(set1)}\")"
   ]
  },
  {
   "cell_type": "code",
   "execution_count": 6,
   "id": "1345fb01",
   "metadata": {},
   "outputs": [
    {
     "name": "stdout",
     "output_type": "stream",
     "text": [
      "Length of set: 7\n"
     ]
    }
   ],
   "source": [
    "# len() ---> returns the max value of the set\n",
    "\n",
    "print(f\"Length of set: {len(set1)}\")"
   ]
  },
  {
   "cell_type": "code",
   "execution_count": 7,
   "id": "076277e2",
   "metadata": {},
   "outputs": [
    {
     "name": "stdout",
     "output_type": "stream",
     "text": [
      "Sorted set: [1, 2, 3, 4, 11, 67, 100]\n"
     ]
    }
   ],
   "source": [
    "# sorted()  ---> returns the sorted set\n",
    "\n",
    "print(f\"Sorted set: {sorted(set1)}\")"
   ]
  },
  {
   "cell_type": "markdown",
   "id": "a3c6d6b1",
   "metadata": {},
   "source": [
    "### Set Methods"
   ]
  },
  {
   "cell_type": "code",
   "execution_count": 13,
   "id": "a67f50a1",
   "metadata": {},
   "outputs": [
    {
     "name": "stdout",
     "output_type": "stream",
     "text": [
      "['__and__', '__class__', '__class_getitem__', '__contains__', '__delattr__', '__dir__', '__doc__', '__eq__', '__format__', '__ge__', '__getattribute__', '__gt__', '__hash__', '__iand__', '__init__', '__init_subclass__', '__ior__', '__isub__', '__iter__', '__ixor__', '__le__', '__len__', '__lt__', '__ne__', '__new__', '__or__', '__rand__', '__reduce__', '__reduce_ex__', '__repr__', '__ror__', '__rsub__', '__rxor__', '__setattr__', '__sizeof__', '__str__', '__sub__', '__subclasshook__', '__xor__', 'add', 'clear', 'copy', 'difference', 'difference_update', 'discard', 'intersection', 'intersection_update', 'isdisjoint', 'issubset', 'issuperset', 'pop', 'remove', 'symmetric_difference', 'symmetric_difference_update', 'union', 'update']\n"
     ]
    }
   ],
   "source": [
    "print(dir(set))"
   ]
  },
  {
   "cell_type": "code",
   "execution_count": 14,
   "id": "f64b5741",
   "metadata": {},
   "outputs": [
    {
     "name": "stdout",
     "output_type": "stream",
     "text": [
      "Set before adding element: {1, 2, 67, 3, 4, 100, 11}\n",
      "Set after adding element: {1, 2, 67, 3, 4, 100, 69, 11}\n"
     ]
    }
   ],
   "source": [
    "# add()  ---> Used to add element to a set\n",
    "\n",
    "print(f\"Set before adding element: {set1}\")\n",
    "set1.add(69)\n",
    "print(f\"Set after adding element: {set1}\")"
   ]
  },
  {
   "cell_type": "markdown",
   "id": "ff8d2ad9",
   "metadata": {},
   "source": [
    "##### Mathematical Methods in set\n",
    "    - union\n",
    "    - intersection\n",
    "    - difference"
   ]
  },
  {
   "cell_type": "code",
   "execution_count": 18,
   "id": "e7ffcb97",
   "metadata": {},
   "outputs": [],
   "source": [
    "set1 = {1, 2, 5, 67, 23}\n",
    "set2 = {1, 23, 45, 32, 5}"
   ]
  },
  {
   "cell_type": "code",
   "execution_count": 19,
   "id": "36e2ac7e",
   "metadata": {},
   "outputs": [
    {
     "name": "stdout",
     "output_type": "stream",
     "text": [
      "Union set: {32, 1, 2, 67, 5, 45, 23}\n"
     ]
    }
   ],
   "source": [
    "# union()   ---> Returns a set which is the result of combining two sets\n",
    "\n",
    "\n",
    "unionSet = set1.union(set2)\n",
    "print(f\"Union set: {unionSet}\")"
   ]
  },
  {
   "cell_type": "code",
   "execution_count": 20,
   "id": "1968efac",
   "metadata": {},
   "outputs": [
    {
     "name": "stdout",
     "output_type": "stream",
     "text": [
      "Intersection set: {1, 5, 23}\n"
     ]
    }
   ],
   "source": [
    "# intersection  ---> returns a set containing the commom elements of the set\n",
    "\n",
    "interSectionSet = set1.intersection(set2)\n",
    "print(f\"Intersection set: {interSectionSet}\")"
   ]
  },
  {
   "cell_type": "code",
   "execution_count": 21,
   "id": "2f0c7c8c",
   "metadata": {},
   "outputs": [
    {
     "name": "stdout",
     "output_type": "stream",
     "text": [
      "Difference set: {2, 67}\n"
     ]
    }
   ],
   "source": [
    "# difference()  ---> returns the uncommon elements of the first set used\n",
    "\n",
    "differenceSet = set1.difference(set2)\n",
    "print(f\"Difference set: {differenceSet}\")"
   ]
  },
  {
   "cell_type": "code",
   "execution_count": 10,
   "id": "97dcbbd4",
   "metadata": {},
   "outputs": [
    {
     "ename": "KeyError",
     "evalue": "3",
     "output_type": "error",
     "traceback": [
      "\u001b[1;31m---------------------------------------------------------------------------\u001b[0m",
      "\u001b[1;31mKeyError\u001b[0m                                  Traceback (most recent call last)",
      "Cell \u001b[1;32mIn[10], line 3\u001b[0m\n\u001b[0;32m      1\u001b[0m \u001b[38;5;66;03m# remove()  ---> removes an element from the set\u001b[39;00m\n\u001b[1;32m----> 3\u001b[0m removedElement \u001b[38;5;241m=\u001b[39m \u001b[43msetDemo\u001b[49m\u001b[38;5;241;43m.\u001b[39;49m\u001b[43mremove\u001b[49m\u001b[43m(\u001b[49m\u001b[38;5;241;43m3\u001b[39;49m\u001b[43m)\u001b[49m\n\u001b[0;32m      4\u001b[0m \u001b[38;5;28mprint\u001b[39m(\u001b[38;5;124mf\u001b[39m\u001b[38;5;124m\"\u001b[39m\u001b[38;5;124mRemoved Element: \u001b[39m\u001b[38;5;132;01m{\u001b[39;00mremovedElement\u001b[38;5;132;01m}\u001b[39;00m\u001b[38;5;124m\"\u001b[39m)\n\u001b[0;32m      5\u001b[0m \u001b[38;5;28mprint\u001b[39m(setDemo)\n",
      "\u001b[1;31mKeyError\u001b[0m: 3"
     ]
    }
   ],
   "source": [
    "# remove()  ---> removes an element from the set\n",
    "\n",
    "removedElement = setDemo.remove(3)\n",
    "print(f\"Removed Element: {removedElement}\")\n",
    "print(setDemo)"
   ]
  },
  {
   "cell_type": "code",
   "execution_count": 11,
   "id": "44ecfa2d",
   "metadata": {},
   "outputs": [
    {
     "name": "stdout",
     "output_type": "stream",
     "text": [
      "Enter the string: Python Workshop\n",
      "Vowels: {'i', 'O', 'E', 'I', 'e', 'u', 'A', 'o', 'a', 'U'}\n",
      "Count of vowels in the given string: 3\n"
     ]
    }
   ],
   "source": [
    "# write the a program to count the number of from a given string\n",
    "\n",
    "st = input(\"Enter the string: \")\n",
    "countVowels = 0\n",
    "vowels = set(\"aeiouAEIOU\")\n",
    "#print(f\"Vowels: {vowels}\")\n",
    "\n",
    "for ch in st:\n",
    "    if ch in vowels:\n",
    "        countVowels += 1\n",
    "print(f\"Count of vowels in the given string: {countVowels}\")"
   ]
  },
  {
   "cell_type": "markdown",
   "id": "0fc624ff",
   "metadata": {},
   "source": []
  }
 ],
 "metadata": {
  "kernelspec": {
   "display_name": "Python 3 (ipykernel)",
   "language": "python",
   "name": "python3"
  },
  "language_info": {
   "codemirror_mode": {
    "name": "ipython",
    "version": 3
   },
   "file_extension": ".py",
   "mimetype": "text/x-python",
   "name": "python",
   "nbconvert_exporter": "python",
   "pygments_lexer": "ipython3",
   "version": "3.10.9"
  }
 },
 "nbformat": 4,
 "nbformat_minor": 5
}
