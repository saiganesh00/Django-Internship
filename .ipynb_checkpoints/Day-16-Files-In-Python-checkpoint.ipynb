{
 "cells": [
  {
   "cell_type": "markdown",
   "id": "538ce658",
   "metadata": {},
   "source": [
    "### FIle Handling in Python\n",
    "    - File: A file is a collection of data/imformation\n",
    "    - File Types: .py, .txt, .excel, .png, ,jpeg\n",
    "    \n",
    "    - Steps in file handling:\n",
    "        -> Opening a file\n",
    "        -> Doing an operation in the file\n",
    "        -> Closing the file\n",
    "    \n",
    "    - File Operations:\n",
    "        \n",
    "        -> Opening a file:\n",
    "        \n",
    "            open() --> used to open a file\n",
    "            \n",
    "        -> Doing an operation\n",
    "            \n",
    "            read operation --> read()\n",
    "            \n",
    "            write operation --> write(\"data\")\n",
    "            \n",
    "        -> closing a file\n",
    "            \n",
    "            close() ---> used to close a file\n",
    "            \n",
    "     - File modes:\n",
    "         -> read mode('r') --> read mode is default mode in file handling\n",
    "         -> write mode('w')\n",
    "         -> append('a')\n",
    "      \n",
    "     *** Syntax ***\n",
    "         \n",
    "         - open('fileName', 'mode') "
   ]
  },
  {
   "cell_type": "markdown",
   "id": "f38e0238",
   "metadata": {},
   "source": [
    "#### read operation:\n",
    "    - read() ---> this function reads the entire file and returns a string\n",
    "    "
   ]
  },
  {
   "cell_type": "code",
   "execution_count": 1,
   "id": "fe8066d7",
   "metadata": {},
   "outputs": [
    {
     "name": "stdout",
     "output_type": "stream",
     "text": [
      "Hello, How are you ?\n",
      "Hope you're doing well\n",
      "Adios :)\n"
     ]
    }
   ],
   "source": [
    "demoFile = open('demo.txt')\n",
    "dataDemo = demoFile.read()\n",
    "print(dataDemo)\n",
    "demoFile.close()"
   ]
  },
  {
   "cell_type": "markdown",
   "id": "81045e4d",
   "metadata": {},
   "source": [
    "#### write operation\n",
    "    - write() ---> writes a fixed sequence of characters to a file"
   ]
  },
  {
   "cell_type": "code",
   "execution_count": 3,
   "id": "0b7fa14d",
   "metadata": {},
   "outputs": [
    {
     "name": "stdout",
     "output_type": "stream",
     "text": [
      "14\n"
     ]
    }
   ],
   "source": [
    "demoFile = open('demo.txt', 'w')\n",
    "dataWrite = demoFile.write(\"See You again!\")\n",
    "print(dataWrite)\n",
    "demoFile.close()"
   ]
  },
  {
   "cell_type": "markdown",
   "id": "f9d24891",
   "metadata": {},
   "source": [
    "#### append mode"
   ]
  },
  {
   "cell_type": "code",
   "execution_count": 4,
   "id": "cd4e1153",
   "metadata": {},
   "outputs": [
    {
     "name": "stdout",
     "output_type": "stream",
     "text": [
      "20\n"
     ]
    }
   ],
   "source": [
    "demoFile = open('demo.txt', 'a')\n",
    "dataAppend = demoFile.write(\"Hello, How are you ?\")\n",
    "print(dataAppend)\n",
    "demoFile.close()"
   ]
  },
  {
   "cell_type": "code",
   "execution_count": 5,
   "id": "df7bae1d",
   "metadata": {},
   "outputs": [
    {
     "name": "stdout",
     "output_type": "stream",
     "text": [
      "57\n"
     ]
    }
   ],
   "source": [
    "# To create a new file using file handling in python\n",
    "\n",
    "newFile = open('new.txt', 'w')\n",
    "dataWrite = newFile.write('Hello, this file is created by using pyhton file handling')\n",
    "print(dataWrite)\n",
    "newFile.close()"
   ]
  },
  {
   "cell_type": "markdown",
   "id": "8915b9ed",
   "metadata": {},
   "source": [
    "### with open():\n",
    "    *** Syntax ***\n",
    "    \n",
    "         with open('fileName', 'mode') as variableName:\n",
    "             # operations\n",
    "    \n",
    "    -> Using this function we don't need to close the file explicitly"
   ]
  },
  {
   "cell_type": "code",
   "execution_count": 6,
   "id": "18136039",
   "metadata": {},
   "outputs": [
    {
     "name": "stdout",
     "output_type": "stream",
     "text": [
      "Hello, this file is created by using pyhton file handling\n"
     ]
    }
   ],
   "source": [
    "with open('new.txt') as nf:\n",
    "    newData = nf.read()\n",
    "    print(newData)"
   ]
  },
  {
   "cell_type": "code",
   "execution_count": 7,
   "id": "686237bb",
   "metadata": {},
   "outputs": [
    {
     "name": "stdout",
     "output_type": "stream",
     "text": [
      "45\n"
     ]
    }
   ],
   "source": [
    "with open('demo.txt', 'w') as df:\n",
    "    res = df.write(\"Hello, How are you ? \\n Hope you're doing fine\")\n",
    "    print(res)"
   ]
  },
  {
   "cell_type": "code",
   "execution_count": 8,
   "id": "750f7536",
   "metadata": {},
   "outputs": [
    {
     "name": "stdout",
     "output_type": "stream",
     "text": [
      "9\n"
     ]
    }
   ],
   "source": [
    "with open('demo.txt', 'a') as df:\n",
    "    res = df.write(\"\\nAdios :)\")\n",
    "    print(res)"
   ]
  },
  {
   "cell_type": "code",
   "execution_count": 9,
   "id": "c9c4870f",
   "metadata": {},
   "outputs": [
    {
     "name": "stdout",
     "output_type": "stream",
     "text": [
      "Enter the file name: demo.txt\n",
      "Enter your file mode(r, w, a): r\n",
      "Hello, How are you ? \n",
      " Hope you're doing fine\n",
      "Adios :)\n"
     ]
    }
   ],
   "source": [
    "# write a function which reads a file \n",
    "\n",
    "def readFile(fileName):\n",
    "    with open(fileName) as file:\n",
    "        res = file.read()\n",
    "        print(res)\n",
    "    return\n",
    "\n",
    "fileName = input(\"Enter the file name: \")\n",
    "fileMode = input(\"Enter your file mode(r, w, a): \")\n",
    "readFile(fileName)"
   ]
  },
  {
   "cell_type": "markdown",
   "id": "0bc974a5",
   "metadata": {},
   "source": [
    "### file reading methods:\n",
    "    - read()\n",
    "    - readline()\n",
    "    - readlines()\n",
    "    - split()\n",
    "    - tell()\n",
    "    - seek()"
   ]
  },
  {
   "cell_type": "code",
   "execution_count": 10,
   "id": "a9ec87ef",
   "metadata": {},
   "outputs": [
    {
     "name": "stdout",
     "output_type": "stream",
     "text": [
      "Hello, How\n"
     ]
    }
   ],
   "source": [
    "# read(length)\n",
    "\n",
    "with open('demo.txt', 'r') as file:\n",
    "    res = file.read(10)\n",
    "    print(res)"
   ]
  },
  {
   "cell_type": "code",
   "execution_count": 11,
   "id": "2fa66247",
   "metadata": {},
   "outputs": [
    {
     "name": "stdout",
     "output_type": "stream",
     "text": [
      "Hello, How are you ? \n",
      "\n"
     ]
    }
   ],
   "source": [
    "# readline()\n",
    "\n",
    "with open('demo.txt', 'r') as file:\n",
    "    res = file.readline()\n",
    "    print(res)"
   ]
  },
  {
   "cell_type": "code",
   "execution_count": 12,
   "id": "233cb661",
   "metadata": {},
   "outputs": [
    {
     "name": "stdout",
     "output_type": "stream",
     "text": [
      "['Hello, How are you ? \\n', \" Hope you're doing fine\\n\", 'Adios :)']\n"
     ]
    }
   ],
   "source": [
    "# readlines() --> returns a list containing the lines of the file\n",
    "\n",
    "with open('demo.txt', 'r') as file:\n",
    "    res = file.readlines()\n",
    "    print(res)"
   ]
  },
  {
   "cell_type": "code",
   "execution_count": 13,
   "id": "3d40cc30",
   "metadata": {},
   "outputs": [
    {
     "name": "stdout",
     "output_type": "stream",
     "text": [
      "['Hello,', 'How', 'are', 'you', '?', 'Hope', \"you're\", 'doing', 'fine', 'Adios', ':)']\n"
     ]
    }
   ],
   "source": [
    "# split() ---> it splits the data into words\n",
    "\n",
    "with open('demo.txt', 'r') as file:\n",
    "    res = file.read()\n",
    "    s = res.split()\n",
    "    print(s)"
   ]
  },
  {
   "cell_type": "code",
   "execution_count": 14,
   "id": "ea3b249d",
   "metadata": {},
   "outputs": [
    {
     "name": "stdout",
     "output_type": "stream",
     "text": [
      "8\n",
      "10\n"
     ]
    }
   ],
   "source": [
    "# tell() --> returns the cursor position\n",
    "# seek() --> used to change the cursor position\n",
    "\n",
    "demoFile = open('demo.txt')\n",
    "readFile = demoFile.read(8)\n",
    "t = demoFile.tell()\n",
    "print(t)\n",
    "s = demoFile.seek(10)\n",
    "st = demoFile.tell()\n",
    "print(st)\n",
    "demoFile.close()"
   ]
  },
  {
   "cell_type": "code",
   "execution_count": 15,
   "id": "03ddc3e7",
   "metadata": {},
   "outputs": [
    {
     "name": "stdout",
     "output_type": "stream",
     "text": [
      "3\n"
     ]
    }
   ],
   "source": [
    "# lines count\n",
    "\n",
    "with open('demo.txt', 'r') as file:\n",
    "    res = file.readlines()\n",
    "    print(len(res))"
   ]
  },
  {
   "cell_type": "code",
   "execution_count": null,
   "id": "718878e8",
   "metadata": {},
   "outputs": [],
   "source": [
    "# words count\n",
    "\n"
   ]
  }
 ],
 "metadata": {
  "kernelspec": {
   "display_name": "Python 3 (ipykernel)",
   "language": "python",
   "name": "python3"
  },
  "language_info": {
   "codemirror_mode": {
    "name": "ipython",
    "version": 3
   },
   "file_extension": ".py",
   "mimetype": "text/x-python",
   "name": "python",
   "nbconvert_exporter": "python",
   "pygments_lexer": "ipython3",
   "version": "3.10.9"
  }
 },
 "nbformat": 4,
 "nbformat_minor": 5
}
