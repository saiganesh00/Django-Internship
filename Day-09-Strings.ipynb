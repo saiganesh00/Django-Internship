{
 "cells": [
  {
   "cell_type": "markdown",
   "id": "db1952d7",
   "metadata": {},
   "source": [
    "## Strings\n",
    "    - A string is a group of characters or sequence of characters enclosed between single quotes or double qoutes\n",
    "    -"
   ]
  },
  {
   "cell_type": "code",
   "execution_count": 1,
   "id": "01a67e2d",
   "metadata": {},
   "outputs": [
    {
     "name": "stdout",
     "output_type": "stream",
     "text": [
      "Hello World! <class 'str'> "
     ]
    }
   ],
   "source": [
    "text = \"Hello World!\"\n",
    "print(text, type(text), end = \" \")"
   ]
  },
  {
   "cell_type": "markdown",
   "id": "9e8c146f",
   "metadata": {},
   "source": [
    "    - The characters of a string are accessed using the zero based index\n",
    "    - The first character has an index of zero"
   ]
  },
  {
   "cell_type": "code",
   "execution_count": 2,
   "id": "0dc7e266",
   "metadata": {},
   "outputs": [
    {
     "name": "stdout",
     "output_type": "stream",
     "text": [
      "H\n",
      "e\n",
      "l\n"
     ]
    }
   ],
   "source": [
    "print(text[0])\n",
    "print(text[1])\n",
    "print(text[3])"
   ]
  },
  {
   "cell_type": "markdown",
   "id": "876b60d9",
   "metadata": {},
   "source": [
    "### len() function\n",
    "    - The len() function returns the length of the given specified string"
   ]
  },
  {
   "cell_type": "code",
   "execution_count": 3,
   "id": "36fbab24",
   "metadata": {},
   "outputs": [
    {
     "name": "stdout",
     "output_type": "stream",
     "text": [
      "12\n"
     ]
    }
   ],
   "source": [
    "print(len(text))"
   ]
  },
  {
   "cell_type": "markdown",
   "id": "125d33c5",
   "metadata": {},
   "source": [
    "### Backward Indexing\n",
    "    - String characters can also be accessed using the backward indexes which start with -1\n",
    "    - The last charcter can be accessed using -1 index"
   ]
  },
  {
   "cell_type": "code",
   "execution_count": 4,
   "id": "967309ec",
   "metadata": {},
   "outputs": [
    {
     "name": "stdout",
     "output_type": "stream",
     "text": [
      "!\n",
      "d\n"
     ]
    }
   ],
   "source": [
    "print(text[-1])\n",
    "print(text[-2])"
   ]
  },
  {
   "cell_type": "markdown",
   "id": "e87f9e08",
   "metadata": {},
   "source": [
    "### String Slicing\n",
    "    - Extracting the sub strings from the original string is called string slicing.\n",
    "    \n",
    "     *** Syntax ***\n",
    "      string[ start_index: end_index: step_count ]\n",
    "      \n",
    "     - It will fetch upto end_index-1\n",
    "     -By default the step count is 1"
   ]
  },
  {
   "cell_type": "code",
   "execution_count": 6,
   "id": "a484109d",
   "metadata": {},
   "outputs": [
    {
     "name": "stdout",
     "output_type": "stream",
     "text": [
      "Hell\n",
      "llo World\n"
     ]
    }
   ],
   "source": [
    "print(text[0:4])\n",
    "print(text[2:11])"
   ]
  },
  {
   "cell_type": "code",
   "execution_count": 7,
   "id": "0a9d7749",
   "metadata": {},
   "outputs": [
    {
     "name": "stdout",
     "output_type": "stream",
     "text": [
      "Hello World!\n"
     ]
    }
   ],
   "source": [
    "print(text[:])"
   ]
  },
  {
   "cell_type": "code",
   "execution_count": 9,
   "id": "9fe1b013",
   "metadata": {},
   "outputs": [
    {
     "name": "stdout",
     "output_type": "stream",
     "text": [
      "rld\n"
     ]
    }
   ],
   "source": [
    "print(text[-4:-1])"
   ]
  },
  {
   "cell_type": "code",
   "execution_count": 10,
   "id": "932bbae3",
   "metadata": {},
   "outputs": [
    {
     "name": "stdout",
     "output_type": "stream",
     "text": [
      "HloWr\n"
     ]
    }
   ],
   "source": [
    "print(text[0: 10: 2])"
   ]
  },
  {
   "cell_type": "code",
   "execution_count": 11,
   "id": "5051c03d",
   "metadata": {},
   "outputs": [
    {
     "name": "stdout",
     "output_type": "stream",
     "text": [
      "HloWrd\n"
     ]
    }
   ],
   "source": [
    "print(text[: -1: 2])"
   ]
  },
  {
   "cell_type": "code",
   "execution_count": 20,
   "id": "879bd0ec",
   "metadata": {},
   "outputs": [
    {
     "name": "stdout",
     "output_type": "stream",
     "text": [
      "loWrd\n"
     ]
    }
   ],
   "source": [
    "print(text[-10: -1: 2])"
   ]
  },
  {
   "cell_type": "markdown",
   "id": "9872cdb0",
   "metadata": {},
   "source": [
    "### String Methods\n"
   ]
  },
  {
   "cell_type": "code",
   "execution_count": 21,
   "id": "ccc6fa7b",
   "metadata": {},
   "outputs": [
    {
     "name": "stdout",
     "output_type": "stream",
     "text": [
      "['__add__', '__class__', '__contains__', '__delattr__', '__dir__', '__doc__', '__eq__', '__format__', '__ge__', '__getattribute__', '__getitem__', '__getnewargs__', '__gt__', '__hash__', '__init__', '__init_subclass__', '__iter__', '__le__', '__len__', '__lt__', '__mod__', '__mul__', '__ne__', '__new__', '__reduce__', '__reduce_ex__', '__repr__', '__rmod__', '__rmul__', '__setattr__', '__sizeof__', '__str__', '__subclasshook__', 'capitalize', 'casefold', 'center', 'count', 'encode', 'endswith', 'expandtabs', 'find', 'format', 'format_map', 'index', 'isalnum', 'isalpha', 'isascii', 'isdecimal', 'isdigit', 'isidentifier', 'islower', 'isnumeric', 'isprintable', 'isspace', 'istitle', 'isupper', 'join', 'ljust', 'lower', 'lstrip', 'maketrans', 'partition', 'removeprefix', 'removesuffix', 'replace', 'rfind', 'rindex', 'rjust', 'rpartition', 'rsplit', 'rstrip', 'split', 'splitlines', 'startswith', 'strip', 'swapcase', 'title', 'translate', 'upper', 'zfill'] "
     ]
    }
   ],
   "source": [
    "print(dir(str), end = \" \")"
   ]
  },
  {
   "cell_type": "code",
   "execution_count": 22,
   "id": "bc3f012b",
   "metadata": {},
   "outputs": [
    {
     "name": "stdout",
     "output_type": "stream",
     "text": [
      "Name: Shanmukh\n"
     ]
    }
   ],
   "source": [
    "name = \"Shanmukh\"\n",
    "print(f\"Name: {name}\")"
   ]
  },
  {
   "cell_type": "code",
   "execution_count": 23,
   "id": "bcf85220",
   "metadata": {},
   "outputs": [
    {
     "name": "stdout",
     "output_type": "stream",
     "text": [
      "u\n"
     ]
    }
   ],
   "source": [
    "# max() ---> Returns the max character of string\n",
    "\n",
    "print(max(name))"
   ]
  },
  {
   "cell_type": "code",
   "execution_count": 24,
   "id": "4c14bddf",
   "metadata": {},
   "outputs": [
    {
     "name": "stdout",
     "output_type": "stream",
     "text": [
      "S\n"
     ]
    }
   ],
   "source": [
    "# min() ---> Returns the min character of the string\n",
    "\n",
    "print(min(name))"
   ]
  },
  {
   "cell_type": "code",
   "execution_count": 25,
   "id": "be6adf8f",
   "metadata": {},
   "outputs": [
    {
     "name": "stdout",
     "output_type": "stream",
     "text": [
      "8\n"
     ]
    }
   ],
   "source": [
    "# len() ---> Returns the length of the string\n",
    "\n",
    "print(len(name))"
   ]
  },
  {
   "cell_type": "code",
   "execution_count": 28,
   "id": "b51e189c",
   "metadata": {},
   "outputs": [
    {
     "name": "stdout",
     "output_type": "stream",
     "text": [
      "python programming\n"
     ]
    }
   ],
   "source": [
    "lang = \"python programming\"\n",
    "print(lang)"
   ]
  },
  {
   "cell_type": "code",
   "execution_count": 29,
   "id": "904cf91f",
   "metadata": {},
   "outputs": [
    {
     "name": "stdout",
     "output_type": "stream",
     "text": [
      "Python programming\n"
     ]
    }
   ],
   "source": [
    "# capitalize() ---> converts the first character of a  string into capital letter string\n",
    "\n",
    "print(lang.capitalize())"
   ]
  },
  {
   "cell_type": "code",
   "execution_count": 30,
   "id": "ae7a19e2",
   "metadata": {},
   "outputs": [
    {
     "name": "stdout",
     "output_type": "stream",
     "text": [
      "Python Programming\n"
     ]
    }
   ],
   "source": [
    "# title() ---> converts the first character of every word to capital letter\n",
    "\n",
    "print(lang.title())"
   ]
  },
  {
   "cell_type": "code",
   "execution_count": 31,
   "id": "de227db0",
   "metadata": {},
   "outputs": [
    {
     "name": "stdout",
     "output_type": "stream",
     "text": [
      "PYTHON PROGRAMMING\n",
      "SHANMUKH\n"
     ]
    }
   ],
   "source": [
    "# upper() ---> converts the given string into CAPITAL LETTERD STRING\n",
    "\n",
    "print(lang.upper())\n",
    "print(name.upper())"
   ]
  },
  {
   "cell_type": "code",
   "execution_count": 32,
   "id": "46cf6da8",
   "metadata": {},
   "outputs": [
    {
     "name": "stdout",
     "output_type": "stream",
     "text": [
      "python programming\n",
      "hello world!\n"
     ]
    }
   ],
   "source": [
    "# lower() ---> converts the given string into lower case letter string\n",
    "\n",
    "print(lang.lower())\n",
    "print(text.lower())"
   ]
  },
  {
   "cell_type": "code",
   "execution_count": 33,
   "id": "8846dfc7",
   "metadata": {},
   "outputs": [
    {
     "name": "stdout",
     "output_type": "stream",
     "text": [
      "AbCdEf\n"
     ]
    }
   ],
   "source": [
    "# swapcase() ---> converts the lower case letter to upper case letter and vice versa\n",
    "\n",
    "print(\"aBcDeF\".swapcase())"
   ]
  },
  {
   "cell_type": "code",
   "execution_count": 34,
   "id": "d564b06b",
   "metadata": {},
   "outputs": [
    {
     "name": "stdout",
     "output_type": "stream",
     "text": [
      "False\n",
      "True\n"
     ]
    }
   ],
   "source": [
    "# startswith() ---> Returns True if first character matches with a given character\n",
    "\n",
    "print(name.startswith('s'))\n",
    "print(name.startswith('S'))"
   ]
  },
  {
   "cell_type": "code",
   "execution_count": 35,
   "id": "0f339a28",
   "metadata": {},
   "outputs": [
    {
     "name": "stdout",
     "output_type": "stream",
     "text": [
      "True\n",
      "False\n"
     ]
    }
   ],
   "source": [
    "# endswith() ---> Returns True if last character matches with a given character\n",
    "\n",
    "print(name.endswith('h'))\n",
    "print(name.endswith('H'))"
   ]
  },
  {
   "cell_type": "code",
   "execution_count": 36,
   "id": "0eed205b",
   "metadata": {},
   "outputs": [],
   "source": [
    "# casefold()\n"
   ]
  },
  {
   "cell_type": "code",
   "execution_count": 37,
   "id": "149edf5c",
   "metadata": {},
   "outputs": [
    {
     "name": "stdout",
     "output_type": "stream",
     "text": [
      "      Shanmukh      \n",
      "                python programming                \n"
     ]
    }
   ],
   "source": [
    "# center() ---> returns a string with specified string length with the given string in the middle\n",
    "\n",
    "print(name.center(20))\n",
    "print(lang.center(50))"
   ]
  },
  {
   "cell_type": "code",
   "execution_count": 39,
   "id": "9e6b9deb",
   "metadata": {},
   "outputs": [
    {
     "name": "stdout",
     "output_type": "stream",
     "text": [
      "python programming\n",
      "2\n"
     ]
    }
   ],
   "source": [
    "# count()  ---> Returns the count of a given character in a string\n",
    "print(lang)\n",
    "print(lang.count('p'))"
   ]
  },
  {
   "cell_type": "code",
   "execution_count": 42,
   "id": "f7d6a820",
   "metadata": {},
   "outputs": [
    {
     "name": "stdout",
     "output_type": "stream",
     "text": [
      "1\n",
      "0\n",
      "-1\n",
      "-1\n"
     ]
    }
   ],
   "source": [
    "# find()  ---> returns the index of the first occurence of a given character in a string\n",
    "# returns -1 if the character is not present\n",
    "\n",
    "print(name.find('h'))\n",
    "print(lang.find('p'))\n",
    "\n",
    "print(name.find('Z'))\n",
    "print(lang.find('z'))"
   ]
  },
  {
   "cell_type": "code",
   "execution_count": 41,
   "id": "8dd30b54",
   "metadata": {},
   "outputs": [
    {
     "name": "stdout",
     "output_type": "stream",
     "text": [
      "7\n",
      "7\n"
     ]
    }
   ],
   "source": [
    "# rfind() ---> returns the index of the last occurence of a given character in a string\n",
    "\n",
    "print(name.rfind('h'))\n",
    "print(lang.rfind('p'))"
   ]
  },
  {
   "cell_type": "code",
   "execution_count": 45,
   "id": "b604f555",
   "metadata": {},
   "outputs": [
    {
     "name": "stdout",
     "output_type": "stream",
     "text": [
      "1\n",
      "0\n",
      "7\n",
      "7\n"
     ]
    }
   ],
   "source": [
    "# index(), rindex() ---> similar to find(), rfind() methods but throws an error if the character is not present\n",
    "\n",
    "print(name.index('h'))\n",
    "print(lang.index('p'))\n",
    "\n",
    "print(name.rindex('h'))\n",
    "print(lang.rindex('p'))"
   ]
  },
  {
   "cell_type": "code",
   "execution_count": 49,
   "id": "f271b667",
   "metadata": {},
   "outputs": [
    {
     "name": "stdout",
     "output_type": "stream",
     "text": [
      "False\n",
      "True\n",
      "False\n"
     ]
    }
   ],
   "source": [
    "# isalpha()  ---> returns True if all the characters of a string are alphabets\n",
    "\n",
    "print(text.isalpha())\n",
    "print(name.isalpha())\n",
    "print(lang.isalpha())"
   ]
  },
  {
   "cell_type": "code",
   "execution_count": 51,
   "id": "09809f5b",
   "metadata": {},
   "outputs": [
    {
     "name": "stdout",
     "output_type": "stream",
     "text": [
      "True\n",
      "True\n",
      "True\n",
      "False\n"
     ]
    }
   ],
   "source": [
    "# isalnum() ---> Returns True if all the charaters are either alphabets or digits or a combination of both\n",
    "\n",
    "print(\"abc\".isalnum())\n",
    "print(\"123\".isalnum())\n",
    "print(\"abc123\".isalnum())\n",
    "print(lang.isalnum())"
   ]
  },
  {
   "cell_type": "code",
   "execution_count": 53,
   "id": "4b990c2b",
   "metadata": {},
   "outputs": [
    {
     "name": "stdout",
     "output_type": "stream",
     "text": [
      "True\n",
      "True\n",
      "False\n"
     ]
    }
   ],
   "source": [
    "# isspace() ---> returns True if string is white space or tab space\n",
    "\n",
    "print(\" \".isspace())\n",
    "print(\"    \".isspace())\n",
    "print(lang.isspace())"
   ]
  },
  {
   "cell_type": "code",
   "execution_count": 54,
   "id": "2fce8ec5",
   "metadata": {},
   "outputs": [
    {
     "name": "stdout",
     "output_type": "stream",
     "text": [
      "Python Programming\n",
      "True\n"
     ]
    }
   ],
   "source": [
    "# istitle() ---> return True if the first character of every word is upper case\n",
    "\n",
    "lang_title = lang.title()\n",
    "print(lang_title)\n",
    "print(lang_title.istitle())"
   ]
  },
  {
   "cell_type": "code",
   "execution_count": 55,
   "id": "4d49d5d6",
   "metadata": {},
   "outputs": [
    {
     "name": "stdout",
     "output_type": "stream",
     "text": [
      "SHANMUKH\n",
      "True\n"
     ]
    }
   ],
   "source": [
    "# isupper() ---> returns True if all the characters of the string is uppercase alphabets\n",
    "\n",
    "name_upper = name.upper()\n",
    "print(name_upper)\n",
    "print(name_upper.isupper())"
   ]
  },
  {
   "cell_type": "code",
   "execution_count": 57,
   "id": "3066e461",
   "metadata": {},
   "outputs": [
    {
     "name": "stdout",
     "output_type": "stream",
     "text": [
      "shanmukh\n",
      "True\n"
     ]
    }
   ],
   "source": [
    "# islower() ---> returns True if all the characters of the string is lowercase alphabets\n",
    "\n",
    "name_lower = name.lower()\n",
    "print(name_lower)\n",
    "print(name_lower.islower())"
   ]
  },
  {
   "cell_type": "code",
   "execution_count": 59,
   "id": "d8fa13fe",
   "metadata": {},
   "outputs": [
    {
     "name": "stdout",
     "output_type": "stream",
     "text": [
      "Saanmuka\n",
      "Shanmukh\n"
     ]
    }
   ],
   "source": [
    "# replace() ---> returns a string with replaced character string\n",
    "\n",
    "print(name.replace('h', 'a'))\n",
    "print(name)"
   ]
  },
  {
   "cell_type": "code",
   "execution_count": 65,
   "id": "94721349",
   "metadata": {},
   "outputs": [
    {
     "name": "stdout",
     "output_type": "stream",
     "text": [
      "['Shanmukh']\n",
      "['Hello', 'World!']\n",
      "['python', 'programming']\n"
     ]
    }
   ],
   "source": [
    "# split() ---> returns a list of characters of a string\n",
    "print(name.split(' '))\n",
    "print(text.split())\n",
    "print(lang.split())"
   ]
  },
  {
   "cell_type": "code",
   "execution_count": 63,
   "id": "c814f4f0",
   "metadata": {},
   "outputs": [
    {
     "name": "stdout",
     "output_type": "stream",
     "text": [
      "000000000000Shanmukh\n"
     ]
    }
   ],
   "source": [
    "# zfill() ---> fills zeroes before a given string\n",
    "\n",
    "print(name.zfill(20))"
   ]
  },
  {
   "cell_type": "code",
   "execution_count": null,
   "id": "e2c62297",
   "metadata": {},
   "outputs": [],
   "source": []
  }
 ],
 "metadata": {
  "kernelspec": {
   "display_name": "Python 3 (ipykernel)",
   "language": "python",
   "name": "python3"
  },
  "language_info": {
   "codemirror_mode": {
    "name": "ipython",
    "version": 3
   },
   "file_extension": ".py",
   "mimetype": "text/x-python",
   "name": "python",
   "nbconvert_exporter": "python",
   "pygments_lexer": "ipython3",
   "version": "3.10.9"
  }
 },
 "nbformat": 4,
 "nbformat_minor": 5
}
