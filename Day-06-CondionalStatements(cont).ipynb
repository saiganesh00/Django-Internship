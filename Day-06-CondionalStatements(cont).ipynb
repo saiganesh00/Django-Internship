{
 "cells": [
  {
   "cell_type": "markdown",
   "id": "d9404a5f",
   "metadata": {},
   "source": [
    "### Nested-if Conditional Statement\n",
    "    - Used for checking conditions at multiple levels\n",
    "    *** Syntax ***\n",
    "    if (condition1):\n",
    "        if (condition2):\n",
    "            // statement 1\n",
    "         else:\n",
    "             // statement 2\n",
    "     else:\n",
    "         // statement 3"
   ]
  },
  {
   "cell_type": "code",
   "execution_count": 1,
   "id": "717a43c6",
   "metadata": {},
   "outputs": [
    {
     "name": "stdout",
     "output_type": "stream",
     "text": [
      "Enter Your User Name: shanmukh\n",
      "Enter Your Password: shanmukh123\n",
      "HI, Welcome shanmukh\n"
     ]
    }
   ],
   "source": [
    "username = input(\"Enter Your User Name: \")\n",
    "password = input(\"Enter Your Password: \")\n",
    "if username == \"shanmukh\":\n",
    "    if password == \"shanmukh123\":\n",
    "        print(f\"HI, Welcome {username}\")\n",
    "    else:\n",
    "        print(\"Invalid Password\")\n",
    "else:\n",
    "    print(\"Invalid username/password\")"
   ]
  },
  {
   "cell_type": "code",
   "execution_count": 2,
   "id": "d0e30ba5",
   "metadata": {},
   "outputs": [
    {
     "name": "stdout",
     "output_type": "stream",
     "text": [
      "Enter Your User Name: shanmukh\n",
      "Enter Your Password: shanmukh123\n",
      "HI, Welcome shanmukh\n"
     ]
    }
   ],
   "source": [
    "username = input(\"Enter Your User Name: \")\n",
    "password = input(\"Enter Your Password: \")\n",
    "if username == \"shanmukh\" and password == \"shanmukh123\":\n",
    "    print(f\"HI, Welcome {username}\")\n",
    "else:\n",
    "    print(\"Invalid username/password\")"
   ]
  },
  {
   "cell_type": "markdown",
   "id": "38c5b23d",
   "metadata": {},
   "source": [
    "### Output Formatting\n",
    "    - , (comma)\n",
    "    - % (percentage)\n",
    "    - .format\n",
    "    - f'"
   ]
  },
  {
   "cell_type": "markdown",
   "id": "96e8784e",
   "metadata": {},
   "source": [
    "#### Let us consider we need output in the following format\n",
    "    -Addition of 4 and 3 is: 7"
   ]
  },
  {
   "cell_type": "code",
   "execution_count": 3,
   "id": "0e1d37a8",
   "metadata": {},
   "outputs": [],
   "source": [
    "a = 4\n",
    "b = 3"
   ]
  },
  {
   "cell_type": "code",
   "execution_count": 5,
   "id": "c10d1052",
   "metadata": {},
   "outputs": [
    {
     "name": "stdout",
     "output_type": "stream",
     "text": [
      "Addition of 4 and 3 is: 7\n"
     ]
    }
   ],
   "source": [
    "print(\"Addition of\", a, \"and\", b, \"is:\", a+b)"
   ]
  },
  {
   "cell_type": "code",
   "execution_count": 6,
   "id": "42b55b44",
   "metadata": {},
   "outputs": [
    {
     "name": "stdout",
     "output_type": "stream",
     "text": [
      "Addition of 4 and 3 is: 7\n"
     ]
    }
   ],
   "source": [
    "print(\"Addition of %d and %d is: %d\" %(a, b, a+b))"
   ]
  },
  {
   "cell_type": "code",
   "execution_count": 8,
   "id": "c423c443",
   "metadata": {},
   "outputs": [
    {
     "name": "stdout",
     "output_type": "stream",
     "text": [
      "Addition of 4 and 3 is: 7\n",
      "Addition of 3 and 4 is: 7\n",
      "Addition of 4 and 3 is: 7\n"
     ]
    }
   ],
   "source": [
    "print(\"Addition of {} and {} is: {}\".format(a, b, a+b))\n",
    "\n",
    "print(\"Addition of {} and {} is: {}\".format(b, a, a+b))\n",
    "\n",
    "print(\"Addition of {1} and {0} is: {2}\".format(b, a, a+b))"
   ]
  },
  {
   "cell_type": "code",
   "execution_count": 9,
   "id": "10e6ee85",
   "metadata": {},
   "outputs": [
    {
     "name": "stdout",
     "output_type": "stream",
     "text": [
      "Addition of 4 and 3 is: 7\n"
     ]
    }
   ],
   "source": [
    "print(f\"Addition of {a} and {b} is: {a+b}\")"
   ]
  },
  {
   "cell_type": "markdown",
   "id": "28e3cd09",
   "metadata": {},
   "source": [
    "### Variable assignment\n",
    "    - Single variable assignment\n",
    "    - n number of variables to n number of values\n",
    "    - n number variables to a single variable"
   ]
  },
  {
   "cell_type": "code",
   "execution_count": 10,
   "id": "a8301645",
   "metadata": {},
   "outputs": [
    {
     "name": "stdout",
     "output_type": "stream",
     "text": [
      "20 <class 'int'>\n"
     ]
    }
   ],
   "source": [
    "# Single variable assignment\n",
    "\n",
    "a = 20\n",
    "print(a, type(a))"
   ]
  },
  {
   "cell_type": "code",
   "execution_count": 11,
   "id": "7bafe22c",
   "metadata": {},
   "outputs": [
    {
     "name": "stdout",
     "output_type": "stream",
     "text": [
      "12\n",
      "<class 'int'>\n",
      "3.14\n",
      "<class 'float'>\n",
      "True\n",
      "<class 'bool'>\n",
      "Hello\n",
      "<class 'str'>\n"
     ]
    }
   ],
   "source": [
    "# n number of variables to n number of values\n",
    "\n",
    "a, b, c, d = 12, 3.14, True, \"Hello\"\n",
    "print(a, type(a), b, type(b), c, type(c), d, type(d), sep=\"\\n\")"
   ]
  },
  {
   "cell_type": "code",
   "execution_count": 12,
   "id": "1cb86b83",
   "metadata": {},
   "outputs": [
    {
     "name": "stdout",
     "output_type": "stream",
     "text": [
      "123\n",
      "<class 'int'>\n",
      "123\n",
      "<class 'int'>\n",
      "123\n",
      "<class 'int'>\n"
     ]
    }
   ],
   "source": [
    "# n number of variables to single value\n",
    "\n",
    "x = y = z = 123\n",
    "print(x, type(x), y, type(y), z, type(x), sep = \"\\n\")"
   ]
  },
  {
   "cell_type": "code",
   "execution_count": 14,
   "id": "d94a72fe",
   "metadata": {},
   "outputs": [
    {
     "name": "stdout",
     "output_type": "stream",
     "text": [
      "Enter Username: Shanmukh\n",
      "Enter Password: qwert\n",
      "Inavalid Password\n"
     ]
    }
   ],
   "source": [
    "username = input(\"Enter Username: \")\n",
    "if username == \"Shanmukh\":\n",
    "    password = input(\"Enter Password: \")\n",
    "    if password == \"Shanmukh123\":\n",
    "        print(f\"HI, Welcome {username}\")\n",
    "    else:\n",
    "        print(\"Inavalid Password\")\n",
    "else:\n",
    "    print(\"Invalid Username\")"
   ]
  },
  {
   "cell_type": "markdown",
   "id": "beb59d25",
   "metadata": {},
   "source": [
    "### if-elif-else Conditional statement\n",
    "    - used to check multiple conditions\n",
    "    "
   ]
  },
  {
   "cell_type": "markdown",
   "id": "7af34a6d",
   "metadata": {},
   "source": [
    "##### Syntax\n",
    "    if condition1:\n",
    "        # execute statement 1\n",
    "    elif condition2:\n",
    "        # execute statement 1\n",
    "    elif condition2:\n",
    "        # execute statement 2\n",
    "    elif condition2:\n",
    "        # execute statement 3\n",
    "    ......\n",
    "    \n",
    "    else:\n",
    "        # execute statement n\n"
   ]
  },
  {
   "cell_type": "code",
   "execution_count": 16,
   "id": "7e9ae1de",
   "metadata": {},
   "outputs": [
    {
     "name": "stdout",
     "output_type": "stream",
     "text": [
      "Enter a number: 17\n",
      "17 is greater than 10 and 15\n"
     ]
    }
   ],
   "source": [
    "num = int(input(\"Enter a number: \"))\n",
    "if num < 10:\n",
    "    print(f\"{num} is less than 10\")\n",
    "elif num > 10 and num < 15:\n",
    "    print(f\"{num} is less than 15\")\n",
    "else:\n",
    "    print(f\"{num} is greater than 10 and 15\")"
   ]
  },
  {
   "cell_type": "markdown",
   "id": "71014df9",
   "metadata": {},
   "source": [
    "### Loops or Control Statements\n",
    "    - for loop: used for konwn ranges\n",
    "    - while loop: used for unknown ranges"
   ]
  },
  {
   "cell_type": "markdown",
   "id": "8cc38ae1",
   "metadata": {},
   "source": [
    "#### for loop syntax:\n",
    "    for iterationVariableName in range(start, stop, step):\n",
    "        # executable statements\n",
    "    for iterationVariableName in iterator:\n",
    "        # executable statements\n",
    "     \n",
    "     Iterator => List, Tuple, Set, String and Dictonary\n",
    "     \n",
    "     range(stop) function:\n",
    "         - By default it starts with 0\n",
    "         - It ends with stop value - 1 \n",
    "         - By default it increments with +1\n",
    "         - Ex: range(5) => 0, 1, 2, 3, 4\n",
    "     range(start, stop) function:\n",
    "         - It begins with start value\n",
    "         - It ends with stop value - 1 \n",
    "         - By default it increments with +1\n",
    "         - Ex: range(5, 10) => 5, 6, 7, 8, 9\n",
    "     range(start, stop, step) function:\n",
    "         - It begins with start value\n",
    "         - It ends with stop value - 1 \n",
    "         - It increments/decrements with step value\n",
    "         - Ex: range(1, 6, 2) => 1, 3, 5"
   ]
  },
  {
   "cell_type": "code",
   "execution_count": 18,
   "id": "1d6ef6ce",
   "metadata": {},
   "outputs": [
    {
     "name": "stdout",
     "output_type": "stream",
     "text": [
      "Enter a value: 20\n",
      "0 1 2 3 4 5 6 7 8 9 10 11 12 13 14 15 16 17 18 19 "
     ]
    }
   ],
   "source": [
    "n = int(input(\"Enter a value: \"))\n",
    "for i in range(n):\n",
    "    print(i, end = \" \")"
   ]
  },
  {
   "cell_type": "code",
   "execution_count": 19,
   "id": "a3d7fdb2",
   "metadata": {},
   "outputs": [
    {
     "name": "stdout",
     "output_type": "stream",
     "text": [
      "Enter a value: 20\n",
      "19 18 17 16 15 14 13 12 11 10 9 8 7 6 5 4 3 2 1 0 "
     ]
    }
   ],
   "source": [
    "n = int(input(\"Enter a value: \"))\n",
    "for i in range(n):\n",
    "    print(n-i-1, end = \" \")"
   ]
  },
  {
   "cell_type": "code",
   "execution_count": null,
   "id": "b916a302",
   "metadata": {},
   "outputs": [],
   "source": []
  }
 ],
 "metadata": {
  "kernelspec": {
   "display_name": "Python 3 (ipykernel)",
   "language": "python",
   "name": "python3"
  },
  "language_info": {
   "codemirror_mode": {
    "name": "ipython",
    "version": 3
   },
   "file_extension": ".py",
   "mimetype": "text/x-python",
   "name": "python",
   "nbconvert_exporter": "python",
   "pygments_lexer": "ipython3",
   "version": "3.10.9"
  }
 },
 "nbformat": 4,
 "nbformat_minor": 5
}
