{
 "cells": [
  {
   "cell_type": "markdown",
   "id": "a69b2b2e",
   "metadata": {},
   "source": [
    "### Data Structures\n",
    "    - Data structures are ways of organising the data\n",
    "    - In python four types of data structures are there\n",
    "    - List, Tuple, Set, Dictonary"
   ]
  },
  {
   "cell_type": "markdown",
   "id": "39c93c1e",
   "metadata": {},
   "source": [
    "#### List Data Structure\n",
    "    - List is used to store data of different types in a single variable\n",
    "    - Lists are mutable\n",
    "    - Multiple data items can be stored\n",
    "    - List items are accessed using index.\n",
    "    - The first item of a list has an index of Zero\n",
    "    - List allows the duplicate values\n",
    "    - Represted by square braces and items are sperated by comma.\n",
    "    \n",
    "    *** Syntax ****\n",
    "    \n",
    "    li = [item1, item2, item3]\n",
    "    or\n",
    "    li = list([item1, item2, item3])"
   ]
  },
  {
   "cell_type": "code",
   "execution_count": 1,
   "id": "3d720702",
   "metadata": {},
   "outputs": [
    {
     "name": "stdout",
     "output_type": "stream",
     "text": [
      "[123, 'Hello', 123.234, True]\n",
      "<class 'list'>\n"
     ]
    }
   ],
   "source": [
    "li = [123, \"Hello\", 123.234, True]\n",
    "\n",
    "print(li)\n",
    "print(type(li))"
   ]
  },
  {
   "cell_type": "code",
   "execution_count": 2,
   "id": "fd6f726f",
   "metadata": {},
   "outputs": [
    {
     "name": "stdout",
     "output_type": "stream",
     "text": [
      "123\n",
      "Hello\n",
      "123.234\n",
      "True\n"
     ]
    }
   ],
   "source": [
    "print(li[0])\n",
    "print(li[1])\n",
    "print(li[2])\n",
    "print(li[3])"
   ]
  },
  {
   "cell_type": "code",
   "execution_count": 4,
   "id": "ddf42188",
   "metadata": {},
   "outputs": [
    {
     "name": "stdout",
     "output_type": "stream",
     "text": [
      "[123, 'Hello', 123.234]\n"
     ]
    }
   ],
   "source": [
    "print(li[0:3])"
   ]
  },
  {
   "cell_type": "code",
   "execution_count": 5,
   "id": "87c6d6b6",
   "metadata": {},
   "outputs": [
    {
     "name": "stdout",
     "output_type": "stream",
     "text": [
      "[123, 123.234]\n"
     ]
    }
   ],
   "source": [
    "print(li[0:3:2])"
   ]
  },
  {
   "cell_type": "code",
   "execution_count": 6,
   "id": "b0a94b22",
   "metadata": {},
   "outputs": [
    {
     "name": "stdout",
     "output_type": "stream",
     "text": [
      "True\n"
     ]
    }
   ],
   "source": [
    "print(li[-1])"
   ]
  },
  {
   "cell_type": "code",
   "execution_count": 7,
   "id": "65972251",
   "metadata": {},
   "outputs": [
    {
     "name": "stdout",
     "output_type": "stream",
     "text": [
      "123.234\n"
     ]
    }
   ],
   "source": [
    "print(li[-2])"
   ]
  },
  {
   "cell_type": "code",
   "execution_count": 8,
   "id": "c65c6e56",
   "metadata": {},
   "outputs": [
    {
     "name": "stdout",
     "output_type": "stream",
     "text": [
      "[True, 123.234, 'Hello', 123]\n"
     ]
    }
   ],
   "source": [
    "# reverse of a list\n",
    "\n",
    "print(li[::-1])"
   ]
  },
  {
   "cell_type": "code",
   "execution_count": 9,
   "id": "4c841b3a",
   "metadata": {},
   "outputs": [
    {
     "name": "stdout",
     "output_type": "stream",
     "text": [
      "4\n"
     ]
    }
   ],
   "source": [
    "# len() ---> Returns the length of a list\n",
    "\n",
    "print(len(li))"
   ]
  },
  {
   "cell_type": "code",
   "execution_count": 12,
   "id": "d5c41def",
   "metadata": {},
   "outputs": [],
   "source": [
    "list1 = [1, 2, 3, 4, 12.3, 15.6]"
   ]
  },
  {
   "cell_type": "code",
   "execution_count": 13,
   "id": "31edd2da",
   "metadata": {},
   "outputs": [
    {
     "name": "stdout",
     "output_type": "stream",
     "text": [
      "15.6\n"
     ]
    }
   ],
   "source": [
    "# max() ---> Returns the maximum value of the list\n",
    "\n",
    "print(max(list1))"
   ]
  },
  {
   "cell_type": "code",
   "execution_count": 15,
   "id": "640f5d51",
   "metadata": {},
   "outputs": [
    {
     "name": "stdout",
     "output_type": "stream",
     "text": [
      "1\n"
     ]
    }
   ],
   "source": [
    "# min() ---> Returns the minimum value of the list\n",
    "\n",
    "print(min(list1))"
   ]
  },
  {
   "cell_type": "code",
   "execution_count": 16,
   "id": "423a7824",
   "metadata": {},
   "outputs": [
    {
     "name": "stdout",
     "output_type": "stream",
     "text": [
      "37.9\n"
     ]
    }
   ],
   "source": [
    "# sum() ---> Returns the sum of the list\n",
    "\n",
    "print(sum(list1))"
   ]
  },
  {
   "cell_type": "code",
   "execution_count": 20,
   "id": "d80d5e28",
   "metadata": {},
   "outputs": [
    {
     "name": "stdout",
     "output_type": "stream",
     "text": [
      "[1, 2, 3, 4, 12.3, 15.6]\n"
     ]
    }
   ],
   "source": [
    "# sorted() ---> Returns the sorted order of a list\n",
    "\n",
    "print(sorted(list1))\n",
    "# print(sorted(list1), reverse = True)"
   ]
  },
  {
   "cell_type": "code",
   "execution_count": 21,
   "id": "ad19f4e1",
   "metadata": {},
   "outputs": [
    {
     "name": "stdout",
     "output_type": "stream",
     "text": [
      "['__add__', '__class__', '__class_getitem__', '__contains__', '__delattr__', '__delitem__', '__dir__', '__doc__', '__eq__', '__format__', '__ge__', '__getattribute__', '__getitem__', '__gt__', '__hash__', '__iadd__', '__imul__', '__init__', '__init_subclass__', '__iter__', '__le__', '__len__', '__lt__', '__mul__', '__ne__', '__new__', '__reduce__', '__reduce_ex__', '__repr__', '__reversed__', '__rmul__', '__setattr__', '__setitem__', '__sizeof__', '__str__', '__subclasshook__', 'append', 'clear', 'copy', 'count', 'extend', 'index', 'insert', 'pop', 'remove', 'reverse', 'sort']\n"
     ]
    }
   ],
   "source": [
    "print(dir(list))"
   ]
  },
  {
   "cell_type": "markdown",
   "id": "ae1a3772",
   "metadata": {},
   "source": [
    "#### List Methods"
   ]
  },
  {
   "cell_type": "code",
   "execution_count": 24,
   "id": "237c5a10",
   "metadata": {},
   "outputs": [
    {
     "name": "stdout",
     "output_type": "stream",
     "text": [
      "[1, 2, 3, 4, 12.3, 15.6, 45, 45]\n",
      "[1, 2, 3, 4, 12.3, 15.6, 45, 45, [12, 34, 56.7]]\n"
     ]
    }
   ],
   "source": [
    "# append()  ---> Adds a list item at the end of the list\n",
    "\n",
    "list1.append(45)\n",
    "print(list1)\n",
    "\n",
    "list1.append([12, 34, 56.7])\n",
    "print(list1)"
   ]
  },
  {
   "cell_type": "code",
   "execution_count": null,
   "id": "7d58aee8",
   "metadata": {},
   "outputs": [],
   "source": []
  }
 ],
 "metadata": {
  "kernelspec": {
   "display_name": "Python 3 (ipykernel)",
   "language": "python",
   "name": "python3"
  },
  "language_info": {
   "codemirror_mode": {
    "name": "ipython",
    "version": 3
   },
   "file_extension": ".py",
   "mimetype": "text/x-python",
   "name": "python",
   "nbconvert_exporter": "python",
   "pygments_lexer": "ipython3",
   "version": "3.10.9"
  }
 },
 "nbformat": 4,
 "nbformat_minor": 5
}
