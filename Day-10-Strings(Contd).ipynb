{
 "cells": [
  {
   "cell_type": "code",
   "execution_count": 1,
   "id": "c98364d4",
   "metadata": {},
   "outputs": [
    {
     "name": "stdout",
     "output_type": "stream",
     "text": [
      "    Hello World!    \n"
     ]
    }
   ],
   "source": [
    "text = \"    Hello World!    \"\n",
    "print(text)"
   ]
  },
  {
   "cell_type": "code",
   "execution_count": 2,
   "id": "494725d1",
   "metadata": {},
   "outputs": [
    {
     "name": "stdout",
     "output_type": "stream",
     "text": [
      "Hello World!\n"
     ]
    }
   ],
   "source": [
    "# strip()    ---> Removes the whitespaces that are present before and after the characters in a string\n",
    "\n",
    "print(text.strip())"
   ]
  },
  {
   "cell_type": "code",
   "execution_count": 3,
   "id": "85b8392b",
   "metadata": {},
   "outputs": [
    {
     "name": "stdout",
     "output_type": "stream",
     "text": [
      "Hello World!    \n"
     ]
    }
   ],
   "source": [
    "# lstrip()   ---> removes the whitespace that are present in the the left side of a string\n",
    "\n",
    "print(text.lstrip())"
   ]
  },
  {
   "cell_type": "code",
   "execution_count": 4,
   "id": "1d08a801",
   "metadata": {},
   "outputs": [
    {
     "name": "stdout",
     "output_type": "stream",
     "text": [
      "    Hello World!\n"
     ]
    }
   ],
   "source": [
    "# rstrip()   ---> removes the whitespace that are present in the the right side of a string\n",
    "\n",
    "print(text.rstrip())"
   ]
  },
  {
   "cell_type": "code",
   "execution_count": 6,
   "id": "a39c3103",
   "metadata": {},
   "outputs": [
    {
     "name": "stdout",
     "output_type": "stream",
     "text": [
      "@\n"
     ]
    }
   ],
   "source": [
    "# join()\n",
    "\n",
    "name = \"Shanmukh \"\n",
    "print(name.join(\"@\"))"
   ]
  },
  {
   "cell_type": "code",
   "execution_count": 20,
   "id": "dbea4354",
   "metadata": {},
   "outputs": [
    {
     "name": "stdout",
     "output_type": "stream",
     "text": [
      "HelloShanmukh:)\n"
     ]
    }
   ],
   "source": [
    "# string concatenation\n",
    "text = \"Hello\"\n",
    "name = \"Shanmukh\"\n",
    "greet = text + name + \":)\"\n",
    "print(greet)"
   ]
  },
  {
   "cell_type": "code",
   "execution_count": null,
   "id": "23ce2bdf",
   "metadata": {},
   "outputs": [],
   "source": []
  },
  {
   "cell_type": "markdown",
   "id": "cb0d3ee3",
   "metadata": {},
   "source": [
    "### String Programs"
   ]
  },
  {
   "cell_type": "code",
   "execution_count": 8,
   "id": "9aaa6dfc",
   "metadata": {},
   "outputs": [
    {
     "name": "stdout",
     "output_type": "stream",
     "text": [
      "Enter your message: Hello, How are you ?\n",
      "Hello, How are you ?\n"
     ]
    }
   ],
   "source": [
    "message = input(\"Enter your message: \")\n",
    "print(message)"
   ]
  },
  {
   "cell_type": "code",
   "execution_count": 9,
   "id": "ade6d8db",
   "metadata": {},
   "outputs": [
    {
     "name": "stdout",
     "output_type": "stream",
     "text": [
      "H e l l o ,   H o w   a r e   y o u   ? "
     ]
    }
   ],
   "source": [
    "# printing a string using for-loop\n",
    "\n",
    "for ch in message:\n",
    "    print(ch, end = \" \")"
   ]
  },
  {
   "cell_type": "code",
   "execution_count": 11,
   "id": "fa8e68a2",
   "metadata": {},
   "outputs": [
    {
     "name": "stdout",
     "output_type": "stream",
     "text": [
      "? uoy era woH ,olleH\n"
     ]
    }
   ],
   "source": [
    "# reverse of string\n",
    "\n",
    "print(message[::-1])"
   ]
  },
  {
   "cell_type": "code",
   "execution_count": 19,
   "id": "40503532",
   "metadata": {},
   "outputs": [
    {
     "name": "stdout",
     "output_type": "stream",
     "text": [
      "? uoy era woH ,olleH"
     ]
    }
   ],
   "source": [
    "# reverse of string using for-loop:\n",
    "\n",
    "n = len(message)\n",
    "for i in range(n):\n",
    "    print(message[n-i-1], end = \"\")"
   ]
  },
  {
   "cell_type": "code",
   "execution_count": 15,
   "id": "bffeff20",
   "metadata": {},
   "outputs": [
    {
     "name": "stdout",
     "output_type": "stream",
     "text": [
      "Enter a string: MADAM\n",
      "MADAM is a palindromic string\n"
     ]
    }
   ],
   "source": [
    "# program to check whether a given string is palindrome or not\n",
    "\n",
    "str1 = input(\"Enter a string: \")\n",
    "str2 = str1[::-1]\n",
    "\n",
    "if str1 == str2:\n",
    "    print(f\"{str1} is a palindromic string\")\n",
    "else:\n",
    "    print(f\"{str1} is not a palindromic string\")"
   ]
  },
  {
   "cell_type": "code",
   "execution_count": 16,
   "id": "19506ae8",
   "metadata": {},
   "outputs": [
    {
     "name": "stdout",
     "output_type": "stream",
     "text": [
      "Enter a string: Internship\n",
      "Given string : Internship\n",
      "I e i "
     ]
    }
   ],
   "source": [
    "# program to print the vowels of a string\n",
    "\n",
    "msg = input(\"Enter a string: \")\n",
    "print(f\"Given string : {msg}\")\n",
    "vowels = \"aeiouAEIOU\"\n",
    "\n",
    "for ch in msg:\n",
    "    if ch in vowels:\n",
    "        print(ch, end = \" \")\n",
    "    else:\n",
    "        continue"
   ]
  },
  {
   "cell_type": "code",
   "execution_count": 23,
   "id": "f3641859",
   "metadata": {},
   "outputs": [
    {
     "name": "stdout",
     "output_type": "stream",
     "text": [
      "Enter a string: SHanmukhSAi@#$123\n",
      "Upper Case Letters: SHSA\n",
      "Lower Case Letters: anmukhi\n",
      "Digits: 123\n",
      "Special Characters: @#$\n"
     ]
    }
   ],
   "source": [
    "# program to print the uppercase letters, lowercase letters and digits individually\n",
    "\n",
    "inp = input(\"Enter a string: \")\n",
    "upperCaseLetters = ''\n",
    "lowerCaseLetters = ''\n",
    "digits = ''\n",
    "specialCharacters = ''\n",
    "for ch in inp:\n",
    "    if ch.isupper():\n",
    "        upperCaseLetters += ch\n",
    "    elif ch.islower():\n",
    "        lowerCaseLetters += ch\n",
    "    elif ch.isdigit():\n",
    "        digits += ch\n",
    "    else:\n",
    "        specialCharacters += ch\n",
    "print(f\"Upper Case Letters: {upperCaseLetters}\")\n",
    "print(f\"Lower Case Letters: {lowerCaseLetters}\")\n",
    "print(f\"Digits: {digits}\")\n",
    "print(f\"Special Characters: {specialCharacters}\")"
   ]
  },
  {
   "cell_type": "code",
   "execution_count": null,
   "id": "471c5e09",
   "metadata": {},
   "outputs": [],
   "source": []
  }
 ],
 "metadata": {
  "kernelspec": {
   "display_name": "Python 3 (ipykernel)",
   "language": "python",
   "name": "python3"
  },
  "language_info": {
   "codemirror_mode": {
    "name": "ipython",
    "version": 3
   },
   "file_extension": ".py",
   "mimetype": "text/x-python",
   "name": "python",
   "nbconvert_exporter": "python",
   "pygments_lexer": "ipython3",
   "version": "3.10.9"
  }
 },
 "nbformat": 4,
 "nbformat_minor": 5
}
