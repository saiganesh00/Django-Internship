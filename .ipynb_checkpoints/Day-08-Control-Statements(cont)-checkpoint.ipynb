{
 "cells": [
  {
   "cell_type": "markdown",
   "id": "f289b40e",
   "metadata": {},
   "source": [
    "### While Loop:\n",
    "    - It is used to execute a set of statements for a particular condition holds to be true.\n",
    "    - The loop executes if the condition specified is True\n",
    "    - The loop must not be infinite\n",
    "    "
   ]
  },
  {
   "cell_type": "markdown",
   "id": "ff9d2729",
   "metadata": {},
   "source": [
    "#### Syntax:\n",
    "    while condition:\n",
    "        # Executable statements\n",
    "        # updation (optional)"
   ]
  },
  {
   "cell_type": "code",
   "execution_count": 1,
   "id": "bcd804b0",
   "metadata": {},
   "outputs": [
    {
     "name": "stdout",
     "output_type": "stream",
     "text": [
      "Enter the value for num: 10\n",
      "1 2 3 4 5 6 7 8 9 10 "
     ]
    }
   ],
   "source": [
    "# program to print numbers upto n using while loop\n",
    "\n",
    "num = int(input(\"Enter the value for num: \"))\n",
    "i = 1\n",
    "while i <= num:\n",
    "    print(i, end = \" \")\n",
    "    i += 1"
   ]
  },
  {
   "cell_type": "code",
   "execution_count": 3,
   "id": "4f5ca30d",
   "metadata": {},
   "outputs": [
    {
     "name": "stdout",
     "output_type": "stream",
     "text": [
      "Enter the value for num: 12345\n",
      "The reverse of 12345 is 54321\n"
     ]
    }
   ],
   "source": [
    "# program to print the reverse of a number\n",
    "\n",
    "num = int(input(\"Enter the value for num: \"))\n",
    "rev = 0\n",
    "rem = 0\n",
    "temp = num\n",
    "while num > 0:\n",
    "    rem = num % 10\n",
    "    rev = (rev * 10) + rem\n",
    "    num = num // 10\n",
    "print(f\"The reverse of {temp} is {rev}\")\n",
    "    "
   ]
  },
  {
   "cell_type": "code",
   "execution_count": null,
   "id": "08b737eb",
   "metadata": {},
   "outputs": [],
   "source": []
  },
  {
   "cell_type": "code",
   "execution_count": null,
   "id": "fc570223",
   "metadata": {},
   "outputs": [],
   "source": [
    "# program to check whether given number is prime or not using while loop\n",
    "    \n"
   ]
  }
 ],
 "metadata": {
  "kernelspec": {
   "display_name": "Python 3 (ipykernel)",
   "language": "python",
   "name": "python3"
  },
  "language_info": {
   "codemirror_mode": {
    "name": "ipython",
    "version": 3
   },
   "file_extension": ".py",
   "mimetype": "text/x-python",
   "name": "python",
   "nbconvert_exporter": "python",
   "pygments_lexer": "ipython3",
   "version": "3.10.9"
  }
 },
 "nbformat": 4,
 "nbformat_minor": 5
}
