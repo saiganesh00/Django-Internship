{
 "cells": [
  {
   "cell_type": "markdown",
   "id": "a4c37b0b",
   "metadata": {},
   "source": [
    "### Functions Continued...\n",
    "    - Types of user-defined functions continued\n",
    "    - Problem solving using functions"
   ]
  },
  {
   "cell_type": "code",
   "execution_count": 1,
   "id": "922caf2c",
   "metadata": {},
   "outputs": [
    {
     "name": "stdout",
     "output_type": "stream",
     "text": [
      "Enter the first number: 2\n",
      "Enter the second number: 4\n",
      "The power of given numbers: 16\n"
     ]
    }
   ],
   "source": [
    "# Functions without arguments and with return value\n",
    "\n",
    "def power():\n",
    "    num1 = int(input(\"Enter the first number: \"))\n",
    "    num2 = int(input(\"Enter the second number: \"))\n",
    "    return num1 ** num2\n",
    "\n",
    "print(f\"The power of given numbers: {power()}\")"
   ]
  },
  {
   "cell_type": "code",
   "execution_count": 2,
   "id": "6b99a208",
   "metadata": {},
   "outputs": [
    {
     "name": "stdout",
     "output_type": "stream",
     "text": [
      "Hello this is a function with no arguments and return value\n"
     ]
    }
   ],
   "source": [
    "# Functions without arguments and without return value\n",
    "\n",
    "def printFunc():\n",
    "    print(\"Hello this is a function with no arguments and return value\")\n",
    "    \n",
    "printFunc()"
   ]
  },
  {
   "cell_type": "markdown",
   "id": "bd13a37d",
   "metadata": {},
   "source": [
    "#### problem solving using functions"
   ]
  },
  {
   "cell_type": "code",
   "execution_count": 4,
   "id": "75962eef",
   "metadata": {},
   "outputs": [
    {
     "name": "stdout",
     "output_type": "stream",
     "text": [
      "Enter a string: Python Programming\n",
      "The reverse of given string Python Programming is gnimmargorP nohtyP\n"
     ]
    }
   ],
   "source": [
    "# write a program to reverse a given string\n",
    "\n",
    "def reverseString(st):\n",
    "    return st[::-1]\n",
    "st = input(\"Enter a string: \")\n",
    "print(f\"The reverse of given string {st} is {reverseString(st)}\")"
   ]
  },
  {
   "cell_type": "code",
   "execution_count": 5,
   "id": "bec8f05b",
   "metadata": {},
   "outputs": [
    {
     "name": "stdout",
     "output_type": "stream",
     "text": [
      "Enter a string: MADAM\n",
      "Given string MADAM is a palindrome\n"
     ]
    }
   ],
   "source": [
    "# write a function to check whether a string is a plindrome or not\n",
    "\n",
    "def isPalindrome(st):\n",
    "    reverse = st[::-1]\n",
    "    if st == reverse:\n",
    "        return True\n",
    "    return False\n",
    "\n",
    "st = input(\"Enter a string: \")\n",
    "if isPalindrome(st):\n",
    "    print(f\"Given string {st} is a palindrome\")\n",
    "else:\n",
    "    print(f\"Given string {st} is not a palindrome\")"
   ]
  },
  {
   "cell_type": "code",
   "execution_count": 7,
   "id": "bfdbbfae",
   "metadata": {},
   "outputs": [
    {
     "name": "stdout",
     "output_type": "stream",
     "text": [
      "Enter a year: 2000\n",
      "The given year 2000 is leap year\n"
     ]
    }
   ],
   "source": [
    "# write a program to check whether the given year is leap year or not\n",
    "\n",
    "def isLeapYear(year):\n",
    "    if (year % 4 == 0 and year % 100 != 0) or year % 400 == 0:\n",
    "        return True\n",
    "    return False\n",
    "\n",
    "year = int(input(\"Enter a year: \"))\n",
    "if isLeapYear(year):\n",
    "    print(f\"The given year {year} is leap year\")\n",
    "else:\n",
    "    print(f\"The given year {year} is not a leap year\")"
   ]
  },
  {
   "cell_type": "code",
   "execution_count": 9,
   "id": "7369ae5d",
   "metadata": {},
   "outputs": [
    {
     "name": "stdout",
     "output_type": "stream",
     "text": [
      "Enter the first number: 10\n",
      "Enter the second number: 20\n",
      "Enter the third number: 30\n",
      "The greatest of given three numbers 10, 20, and 30 is 30\n"
     ]
    }
   ],
   "source": [
    "# write a program to identify the greatest of three numbers\n",
    "\n",
    "def getGreatest(num1, num2, num3):\n",
    "    greatest = num1\n",
    "    if (num1 > num2) and (num1 > num3):\n",
    "        greatest = num1\n",
    "    elif (num2 > num3):\n",
    "        greatest = num2\n",
    "    else:\n",
    "        greatest = num3\n",
    "    return greatest\n",
    "\n",
    "num1 = int(input(\"Enter the first number: \"))\n",
    "num2 = int(input(\"Enter the second number: \"))\n",
    "num3 = int(input(\"Enter the third number: \"))\n",
    "greatest = getGreatest(num1, num2, num3)\n",
    "print(\"The greatest of given three numbers {}, {}, and {} is {}\".format(num1, num2, num3, greatest))"
   ]
  },
  {
   "cell_type": "code",
   "execution_count": 11,
   "id": "84321a22",
   "metadata": {},
   "outputs": [
    {
     "name": "stdout",
     "output_type": "stream",
     "text": [
      "Enter the number: 10\n",
      "The natural numbers upto 10 are: \n",
      "1 2 3 4 5 6 7 8 9 10 "
     ]
    }
   ],
   "source": [
    "# write a program to print the n natural numbers\n",
    "\n",
    "def printNumbers(num):\n",
    "    i = 1\n",
    "    while i <= num:\n",
    "        print(i, end = \" \")\n",
    "        i += 1\n",
    "    return\n",
    "num = int(input(\"Enter the number: \"))\n",
    "print(f\"The natural numbers upto {num} are: \")\n",
    "printNumbers(num)"
   ]
  },
  {
   "cell_type": "code",
   "execution_count": 20,
   "id": "c340ae0b",
   "metadata": {},
   "outputs": [
    {
     "name": "stdout",
     "output_type": "stream",
     "text": [
      "Enter the range: 10\n",
      "1 3 5 7 9 "
     ]
    }
   ],
   "source": [
    "# program to print alternative elements\n",
    "\n",
    "def printAlternate(num):\n",
    "    for i in range(1, num+1, 2):\n",
    "        print(i, end = \" \")\n",
    "num = int(input(\"Enter the range: \"))\n",
    "printAlternate(num)"
   ]
  },
  {
   "cell_type": "code",
   "execution_count": 19,
   "id": "bb8d3f4a",
   "metadata": {},
   "outputs": [
    {
     "name": "stdout",
     "output_type": "stream",
     "text": [
      "Enter the start value: 1\n",
      "Enter the end value: 10\n",
      "The numbers in reverse order: \n",
      "10 9 8 7 6 5 4 3 2 1 "
     ]
    }
   ],
   "source": [
    "# program to print the numbers in reverse order\n",
    "\n",
    "def reverseOrder(start, end):\n",
    "    for i in range(end, start-1, -1):\n",
    "        print(i, end = \" \")\n",
    "start = int(input(\"Enter the start value: \"))\n",
    "end = int(input(\"Enter the end value: \"))\n",
    "print(\"The numbers in reverse order: \")\n",
    "reverseOrder(start, end)"
   ]
  },
  {
   "cell_type": "code",
   "execution_count": 21,
   "id": "3ea2f29c",
   "metadata": {},
   "outputs": [
    {
     "name": "stdout",
     "output_type": "stream",
     "text": [
      "Enter the number: 10\n",
      "The sum of numbers upto 10 is 55\n"
     ]
    }
   ],
   "source": [
    "# write to calculate the sum of numbers in given range\n",
    "\n",
    "def sumOfNumbers(num):\n",
    "    sm = 0\n",
    "    for i in range(1, num+1):\n",
    "        sm += i\n",
    "    return sm\n",
    "\n",
    "num = int(input(\"Enter the number: \"))\n",
    "print(f\"The sum of numbers upto {num} is {sumOfNumbers(num)}\")"
   ]
  },
  {
   "cell_type": "code",
   "execution_count": 23,
   "id": "5287122f",
   "metadata": {},
   "outputs": [
    {
     "name": "stdout",
     "output_type": "stream",
     "text": [
      "Enter the range of numbers: 10\n",
      "The average of numbers upto given range 10 is 5.5\n"
     ]
    }
   ],
   "source": [
    "# write a program to calculate the average of a given range\n",
    "\n",
    "def findAverage(num):\n",
    "    sm = 0\n",
    "    cnt = 0\n",
    "    for i in range(1, num+1):\n",
    "        sm += i\n",
    "        cnt += 1\n",
    "    return sm/cnt\n",
    "\n",
    "num = int(input(\"Enter the range of numbers: \"))\n",
    "print(f\"The average of numbers upto given range {num} is {findAverage(num)}\")"
   ]
  },
  {
   "cell_type": "code",
   "execution_count": null,
   "id": "57680df2",
   "metadata": {},
   "outputs": [],
   "source": []
  }
 ],
 "metadata": {
  "kernelspec": {
   "display_name": "Python 3 (ipykernel)",
   "language": "python",
   "name": "python3"
  },
  "language_info": {
   "codemirror_mode": {
    "name": "ipython",
    "version": 3
   },
   "file_extension": ".py",
   "mimetype": "text/x-python",
   "name": "python",
   "nbconvert_exporter": "python",
   "pygments_lexer": "ipython3",
   "version": "3.10.9"
  }
 },
 "nbformat": 4,
 "nbformat_minor": 5
}
