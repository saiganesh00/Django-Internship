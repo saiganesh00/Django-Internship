{
 "cells": [
  {
   "cell_type": "markdown",
   "id": "874f4dc8",
   "metadata": {},
   "source": [
    "### Day Objectives:\n",
    "    - Bit Wise Operators\n",
    "    - Conditional Statements in Python"
   ]
  },
  {
   "cell_type": "markdown",
   "id": "4d39845e",
   "metadata": {},
   "source": [
    "#### Bit Wise Operators(&, |, ^,  ~, <<, >>)"
   ]
  },
  {
   "cell_type": "code",
   "execution_count": 1,
   "id": "6004de3e",
   "metadata": {},
   "outputs": [],
   "source": [
    "\n",
    "a = 10\n",
    "b = 4"
   ]
  },
  {
   "cell_type": "code",
   "execution_count": 2,
   "id": "edffcaca",
   "metadata": {},
   "outputs": [
    {
     "data": {
      "text/plain": [
       "'0b1010'"
      ]
     },
     "execution_count": 2,
     "metadata": {},
     "output_type": "execute_result"
    }
   ],
   "source": [
    "# For converting decimal to binary\n",
    "bin(10)"
   ]
  },
  {
   "cell_type": "code",
   "execution_count": 4,
   "id": "055909cf",
   "metadata": {},
   "outputs": [
    {
     "data": {
      "text/plain": [
       "'0b100'"
      ]
     },
     "execution_count": 4,
     "metadata": {},
     "output_type": "execute_result"
    }
   ],
   "source": [
    "bin(4)"
   ]
  },
  {
   "cell_type": "code",
   "execution_count": 6,
   "id": "8dee2af2",
   "metadata": {},
   "outputs": [
    {
     "name": "stdout",
     "output_type": "stream",
     "text": [
      "0\n"
     ]
    }
   ],
   "source": [
    "# Bit-Wise Operator \"OR\"\n",
    "# Result bit is 1, if both operand bits are 1, otherwise result is 0\n",
    "print(a & b)"
   ]
  },
  {
   "cell_type": "code",
   "execution_count": 5,
   "id": "ea04ddb0",
   "metadata": {},
   "outputs": [
    {
     "name": "stdout",
     "output_type": "stream",
     "text": [
      "14\n"
     ]
    }
   ],
   "source": [
    "# Bit-Wise Operator \"OR\"\n",
    "# Result bit is 1, if any one operand bit is 1, otherwise result is 0\n",
    "print(a | b)"
   ]
  },
  {
   "cell_type": "code",
   "execution_count": 7,
   "id": "db945459",
   "metadata": {},
   "outputs": [
    {
     "name": "stdout",
     "output_type": "stream",
     "text": [
      "14\n"
     ]
    }
   ],
   "source": [
    "# Bit-Wise Operator \"XOR\"\n",
    "# Result bit is 1 if any if one of the operand bit is 1, but not both\n",
    "print(a ^ b)"
   ]
  },
  {
   "cell_type": "markdown",
   "id": "114d6c56",
   "metadata": {},
   "source": [
    "#### Left shift Operator \"<<\"\n",
    "    - shifts the bits of the number to the left side and fills 0 on the void side"
   ]
  },
  {
   "cell_type": "code",
   "execution_count": 8,
   "id": "f7dcf1ca",
   "metadata": {},
   "outputs": [
    {
     "name": "stdout",
     "output_type": "stream",
     "text": [
      "5\n",
      "0b101\n"
     ]
    }
   ],
   "source": [
    "x = 5\n",
    "print(x)\n",
    "print(bin(x))"
   ]
  },
  {
   "cell_type": "code",
   "execution_count": 9,
   "id": "9159fd9e",
   "metadata": {},
   "outputs": [
    {
     "data": {
      "text/plain": [
       "10"
      ]
     },
     "execution_count": 9,
     "metadata": {},
     "output_type": "execute_result"
    }
   ],
   "source": [
    "x << 1\n",
    "# 0000 0101 << 1 --->0 0000 101_ ---> 0 0000 1010"
   ]
  },
  {
   "cell_type": "code",
   "execution_count": 10,
   "id": "49e2a62d",
   "metadata": {},
   "outputs": [
    {
     "data": {
      "text/plain": [
       "20"
      ]
     },
     "execution_count": 10,
     "metadata": {},
     "output_type": "execute_result"
    }
   ],
   "source": [
    "x << 2\n",
    "# 0000 0101 << 2 ---> 00 0001 01__ ---> 00 0001 0100"
   ]
  },
  {
   "cell_type": "code",
   "execution_count": 11,
   "id": "94d2d7c3",
   "metadata": {},
   "outputs": [
    {
     "data": {
      "text/plain": [
       "40"
      ]
     },
     "execution_count": 11,
     "metadata": {},
     "output_type": "execute_result"
    }
   ],
   "source": [
    "x << 3\n",
    "# 0000 0101 << 3 ---> 000 0010 1___ ---> 000 0010 1000"
   ]
  },
  {
   "cell_type": "markdown",
   "id": "44fc2749",
   "metadata": {},
   "source": [
    "##### Left Shift for a number can be mathematically represent as follows #####\n",
    "    X << n = X * pow(2, n)"
   ]
  },
  {
   "cell_type": "code",
   "execution_count": 12,
   "id": "56870441",
   "metadata": {},
   "outputs": [
    {
     "data": {
      "text/plain": [
       "80"
      ]
     },
     "execution_count": 12,
     "metadata": {},
     "output_type": "execute_result"
    }
   ],
   "source": [
    "x << 4\n",
    "# 5 * pow(2, 4) = 5 * 16 = 80"
   ]
  },
  {
   "cell_type": "markdown",
   "id": "fa4f578b",
   "metadata": {},
   "source": [
    "#### Right Shift Operator \">>\"\n",
    "    - Shifts the bits of the number to the right side and fills 0 on the void side"
   ]
  },
  {
   "cell_type": "code",
   "execution_count": 13,
   "id": "8db3ba41",
   "metadata": {},
   "outputs": [
    {
     "data": {
      "text/plain": [
       "2"
      ]
     },
     "execution_count": 13,
     "metadata": {},
     "output_type": "execute_result"
    }
   ],
   "source": [
    "x >> 1\n",
    "# 0000 0101 ---> _000 0010 --> 0000 0010"
   ]
  },
  {
   "cell_type": "code",
   "execution_count": 14,
   "id": "38705224",
   "metadata": {},
   "outputs": [
    {
     "data": {
      "text/plain": [
       "1"
      ]
     },
     "execution_count": 14,
     "metadata": {},
     "output_type": "execute_result"
    }
   ],
   "source": [
    "x >> 2\n",
    "# 0000 0101 ---> __00 0001 ---> 0000 0001"
   ]
  },
  {
   "cell_type": "markdown",
   "id": "de997a7c",
   "metadata": {},
   "source": [
    "##### Mathematically right shift can be represented as follows\n",
    "    X >> n = X / pow(2, n)"
   ]
  },
  {
   "cell_type": "code",
   "execution_count": 15,
   "id": "a57940d2",
   "metadata": {},
   "outputs": [
    {
     "data": {
      "text/plain": [
       "0"
      ]
     },
     "execution_count": 15,
     "metadata": {},
     "output_type": "execute_result"
    }
   ],
   "source": [
    "x >> 3"
   ]
  },
  {
   "cell_type": "markdown",
   "id": "360b8907",
   "metadata": {},
   "source": [
    "#### Negation Opertor  \"~\"\n",
    "    - Gives the one's compliment for a number"
   ]
  },
  {
   "cell_type": "code",
   "execution_count": 16,
   "id": "a1782f2d",
   "metadata": {},
   "outputs": [],
   "source": [
    "y = 10"
   ]
  },
  {
   "cell_type": "code",
   "execution_count": 17,
   "id": "953d51db",
   "metadata": {},
   "outputs": [
    {
     "data": {
      "text/plain": [
       "'0b1010'"
      ]
     },
     "execution_count": 17,
     "metadata": {},
     "output_type": "execute_result"
    }
   ],
   "source": [
    "bin(y)"
   ]
  },
  {
   "cell_type": "code",
   "execution_count": 18,
   "id": "6ff0afa8",
   "metadata": {},
   "outputs": [
    {
     "name": "stdout",
     "output_type": "stream",
     "text": [
      "-11\n"
     ]
    }
   ],
   "source": [
    "print(~y)"
   ]
  },
  {
   "cell_type": "markdown",
   "id": "dcb340e3",
   "metadata": {},
   "source": [
    "### Conditional Statements in Python"
   ]
  },
  {
   "cell_type": "markdown",
   "id": "1070a11b",
   "metadata": {},
   "source": [
    "#### Types of conditional statements\n",
    "    - Simple if\n",
    "        - Simple if is used when we have a single condition or a single case\n",
    "    - if...else\n",
    "        - if..else conditional statement is used for True and False situation\n",
    "    - if...elif...else\n",
    "        - It used to check more than one condition\n",
    "    - Nested if\n",
    "        - Condition inside conditions\n",
    "        \n",
    "***Note: Indentation must be followed ***"
   ]
  },
  {
   "cell_type": "markdown",
   "id": "fcced67b",
   "metadata": {},
   "source": [
    "##### Syntax for simple if conditional statement\n",
    "    - if (condition):\n",
    "        Executable statements"
   ]
  },
  {
   "cell_type": "code",
   "execution_count": 22,
   "id": "d9c1ceff",
   "metadata": {},
   "outputs": [
    {
     "name": "stdout",
     "output_type": "stream",
     "text": [
      "Enter the number: 20\n",
      "Number is a positive\n"
     ]
    }
   ],
   "source": [
    "n = int(input(\"Enter the number: \"))\n",
    "if ( n > 0 ):\n",
    "    print(\"Number is a positive\")\n",
    "\n",
    "if ( n < 0 ):\n",
    "    print(\"Number is negative\")"
   ]
  },
  {
   "cell_type": "code",
   "execution_count": 23,
   "id": "f12c8657",
   "metadata": {},
   "outputs": [
    {
     "name": "stdout",
     "output_type": "stream",
     "text": [
      "Number is Even\n"
     ]
    }
   ],
   "source": [
    "if ( n % 2 == 0):\n",
    "    print(\"Number is Even\")"
   ]
  },
  {
   "cell_type": "markdown",
   "id": "9f119348",
   "metadata": {},
   "source": [
    "##### Syntax for if - else conditional statement\n",
    "    if (condition):\n",
    "        Executable statements\n",
    "     else:\n",
    "         Executable statements"
   ]
  },
  {
   "cell_type": "code",
   "execution_count": 25,
   "id": "a16b54c6",
   "metadata": {},
   "outputs": [
    {
     "name": "stdout",
     "output_type": "stream",
     "text": [
      "Enter your value: 23\n",
      "Odd Number\n"
     ]
    }
   ],
   "source": [
    "# check whether given number is even or not\n",
    "\n",
    "num = int(input(\"Enter your value: \"))\n",
    "if ( num % 2 == 0):\n",
    "    print(\"Even Number\")\n",
    "else:\n",
    "    print(\"Odd Number\")"
   ]
  },
  {
   "cell_type": "code",
   "execution_count": 26,
   "id": "241cef41",
   "metadata": {},
   "outputs": [
    {
     "name": "stdout",
     "output_type": "stream",
     "text": [
      "Enter your age: 19\n",
      "Eligible to vote\n"
     ]
    }
   ],
   "source": [
    "# check whether person is eligible to vote or not\n",
    "\n",
    "age = int(input(\"Enter your age: \"))\n",
    "if( age >= 18):\n",
    "    print(\"Eligible to vote\")\n",
    "else:\n",
    "    print(\"Not eligible to vote\")"
   ]
  },
  {
   "cell_type": "code",
   "execution_count": 28,
   "id": "8aae502c",
   "metadata": {},
   "outputs": [
    {
     "name": "stdout",
     "output_type": "stream",
     "text": [
      "Enter a character: b\n",
      "b is a consonant\n"
     ]
    }
   ],
   "source": [
    "# check whether given character is vowel or not\n",
    "\n",
    "ch = input(\"Enter a character: \")\n",
    "vowels = \"aeiouAEIOU\"\n",
    "if ch in vowels:\n",
    "    print(ch + \" is a vowel\")\n",
    "else:\n",
    "    print(ch + \" is a consonant\")"
   ]
  },
  {
   "cell_type": "code",
   "execution_count": 29,
   "id": "a7f7e01b",
   "metadata": {},
   "outputs": [
    {
     "name": "stdout",
     "output_type": "stream",
     "text": [
      "Enter a number: 23\n",
      "Two digit number\n"
     ]
    }
   ],
   "source": [
    "# check whether given number is a two digit number or three digit number\n",
    "\n",
    "number = int(input(\"Enter a number: \"))\n",
    "if (number >= 10 and number <= 99):\n",
    "    print(\"Two digit number\")\n",
    "elif (number >= 100 and number <= 999):\n",
    "    print(\"Three digit number\")\n",
    "else:\n",
    "    print(\"Not a two or three digit number\")"
   ]
  },
  {
   "cell_type": "code",
   "execution_count": null,
   "id": "95b3293b",
   "metadata": {},
   "outputs": [],
   "source": []
  }
 ],
 "metadata": {
  "kernelspec": {
   "display_name": "Python 3 (ipykernel)",
   "language": "python",
   "name": "python3"
  },
  "language_info": {
   "codemirror_mode": {
    "name": "ipython",
    "version": 3
   },
   "file_extension": ".py",
   "mimetype": "text/x-python",
   "name": "python",
   "nbconvert_exporter": "python",
   "pygments_lexer": "ipython3",
   "version": "3.10.9"
  }
 },
 "nbformat": 4,
 "nbformat_minor": 5
}
