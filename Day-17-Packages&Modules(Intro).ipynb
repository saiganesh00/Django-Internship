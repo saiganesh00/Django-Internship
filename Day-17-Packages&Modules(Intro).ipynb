{
 "cells": [
  {
   "cell_type": "markdown",
   "id": "77bd1569",
   "metadata": {},
   "source": [
    "### Day Objectives\n",
    "    - Problem solving on file handling\n",
    "    - packages and modules in python"
   ]
  },
  {
   "cell_type": "code",
   "execution_count": 1,
   "id": "5441b520",
   "metadata": {},
   "outputs": [],
   "source": [
    "import os.path"
   ]
  },
  {
   "cell_type": "code",
   "execution_count": 4,
   "id": "e78e7235",
   "metadata": {},
   "outputs": [
    {
     "name": "stdout",
     "output_type": "stream",
     "text": [
      "True\n"
     ]
    }
   ],
   "source": [
    "# the exists() function of \"os.path\" module \n",
    "\n",
    "emoFile = os.path.exists('demo.txt')\n",
    "print(demoFile)"
   ]
  },
  {
   "cell_type": "code",
   "execution_count": 5,
   "id": "2e6fe7cf",
   "metadata": {},
   "outputs": [
    {
     "name": "stdout",
     "output_type": "stream",
     "text": [
      "False\n"
     ]
    }
   ],
   "source": [
    "file = os.path.exists('file.txt')\n",
    "print(file)"
   ]
  },
  {
   "cell_type": "code",
   "execution_count": 7,
   "id": "8a967cc4",
   "metadata": {},
   "outputs": [
    {
     "name": "stdout",
     "output_type": "stream",
     "text": [
      "Enter a file name: file.txt\n",
      "The file file.txt does not exists\n",
      "Creating a new file with the name file.txt...\n",
      "file.txt is created succeessfully\n"
     ]
    }
   ],
   "source": [
    "# Write a program to read a file, if the file exists then open it otherwise create it\n",
    "\n",
    "fileName = input(\"Enter a file name: \")\n",
    "if os.path.exists(fileName):\n",
    "    print(f\"The file {fileName} exists in the current directorary\")\n",
    "else:\n",
    "    print(f\"The file {fileName} does not exists\")\n",
    "    print(f\"Creating a new file with the name {fileName}...\")\n",
    "    file = open('file.txt', \"w\")\n",
    "    print(f\"{fileName} is created succeessfully\")"
   ]
  },
  {
   "cell_type": "code",
   "execution_count": 8,
   "id": "092e0636",
   "metadata": {},
   "outputs": [
    {
     "name": "stdout",
     "output_type": "stream",
     "text": [
      "H H H A "
     ]
    }
   ],
   "source": [
    "# write a program to print only the uppercase letters from a given file\n",
    "\n",
    "with open('demo.txt', 'r') as demoFile:\n",
    "    dataDemo = demoFile.read()\n",
    "    for item in dataDemo:\n",
    "        if item.isupper():\n",
    "            print(item, end = \" \")"
   ]
  },
  {
   "cell_type": "code",
   "execution_count": 6,
   "id": "bd92b80e",
   "metadata": {},
   "outputs": [
    {
     "name": "stdout",
     "output_type": "stream",
     "text": [
      "Enter the file name: demo.txt\n",
      "The number of lines in the file demo.txt is 3\n",
      "The number of words in the file demo.txt is 11\n",
      "The number of characters in the file demo.txt is 54\n"
     ]
    }
   ],
   "source": [
    "# write a program to read a file from the user, and then perform the following operations\n",
    "# count the total lines in the file\n",
    "# count the total words in the file\n",
    "# count the total character in the file\n",
    "fileName = input(\"Enter the file name: \")\n",
    "demoFile = open(fileName, 'r')\n",
    "lines = demoFile.readlines()\n",
    "wordsCount = 0\n",
    "charsCount = 0\n",
    "for se in lines:\n",
    "    wordsCount += len(se.split())\n",
    "    charsCount += len(se)\n",
    "print(f\"The number of lines in the file {fileName} is {len(lines)}\")\n",
    "print(f\"The number of words in the file {fileName} is {wordsCount}\")\n",
    "print(f\"The number of characters in the file {fileName} is {charsCount}\")\n",
    "demoFile.close()"
   ]
  },
  {
   "cell_type": "markdown",
   "id": "7bd4b235",
   "metadata": {},
   "source": [
    "## Packages and Modules in Python\n",
    "\n",
    "### Packages\n",
    "    - A package is a collection of modules\n",
    "\n",
    "### Modules\n",
    "    - A module is a pyhton file \n",
    "    - It contains collection of variables functions and keywords\n",
    "    \n",
    "#### Types of Modules in Python\n",
    "    - Built-in module\n",
    "        -> math, os, keyword, statistics, datetime, sys and many more\n",
    "        \n",
    "    - User-defined modules\n",
    "        -> The module which is creaated by a user\n",
    "        \n",
    "    - For module accessing pyhton provides the \"import\" keyword\n",
    "        ***Syntax***\n",
    "            import moduleName"
   ]
  },
  {
   "cell_type": "code",
   "execution_count": 7,
   "id": "4e85be3e",
   "metadata": {},
   "outputs": [],
   "source": [
    "import math"
   ]
  },
  {
   "cell_type": "code",
   "execution_count": 8,
   "id": "1155f471",
   "metadata": {},
   "outputs": [
    {
     "name": "stdout",
     "output_type": "stream",
     "text": [
      "120\n"
     ]
    }
   ],
   "source": [
    "print(math.factorial(5))"
   ]
  },
  {
   "cell_type": "code",
   "execution_count": 9,
   "id": "72b89b19",
   "metadata": {},
   "outputs": [
    {
     "name": "stdout",
     "output_type": "stream",
     "text": [
      "6\n"
     ]
    }
   ],
   "source": [
    "print(math.gcd(6, 24))"
   ]
  },
  {
   "cell_type": "code",
   "execution_count": 10,
   "id": "813e5338",
   "metadata": {},
   "outputs": [
    {
     "name": "stdout",
     "output_type": "stream",
     "text": [
      "3.141592653589793\n"
     ]
    }
   ],
   "source": [
    "print(math.pi)"
   ]
  },
  {
   "cell_type": "code",
   "execution_count": 11,
   "id": "83ae7bc7",
   "metadata": {},
   "outputs": [
    {
     "name": "stdout",
     "output_type": "stream",
     "text": [
      "7.38905609893065\n"
     ]
    }
   ],
   "source": [
    "print(math.exp(2))"
   ]
  },
  {
   "cell_type": "code",
   "execution_count": 12,
   "id": "1a6da6f7",
   "metadata": {},
   "outputs": [
    {
     "name": "stdout",
     "output_type": "stream",
     "text": [
      "8.0\n"
     ]
    }
   ],
   "source": [
    "print(math.pow(2, 3))"
   ]
  },
  {
   "cell_type": "code",
   "execution_count": 13,
   "id": "3f3f8a68",
   "metadata": {},
   "outputs": [
    {
     "name": "stdout",
     "output_type": "stream",
     "text": [
      "6\n"
     ]
    }
   ],
   "source": [
    "print(math.floor(6.5))"
   ]
  },
  {
   "cell_type": "code",
   "execution_count": 14,
   "id": "66acea7a",
   "metadata": {},
   "outputs": [
    {
     "name": "stdout",
     "output_type": "stream",
     "text": [
      "7\n"
     ]
    }
   ],
   "source": [
    "print(math.ceil(6.5))"
   ]
  },
  {
   "cell_type": "code",
   "execution_count": 15,
   "id": "4fd90979",
   "metadata": {},
   "outputs": [
    {
     "name": "stdout",
     "output_type": "stream",
     "text": [
      "0.6931471805599453\n"
     ]
    }
   ],
   "source": [
    "print(math.log(2))"
   ]
  },
  {
   "cell_type": "code",
   "execution_count": 16,
   "id": "cc90be09",
   "metadata": {},
   "outputs": [
    {
     "name": "stdout",
     "output_type": "stream",
     "text": [
      "1.0\n"
     ]
    }
   ],
   "source": [
    "print(math.log2(2))"
   ]
  },
  {
   "cell_type": "code",
   "execution_count": 17,
   "id": "aadaef7c",
   "metadata": {},
   "outputs": [
    {
     "name": "stdout",
     "output_type": "stream",
     "text": [
      "0.3010299956639812\n"
     ]
    }
   ],
   "source": [
    "print(math.log10(2))"
   ]
  },
  {
   "cell_type": "code",
   "execution_count": 18,
   "id": "7af6e16a",
   "metadata": {},
   "outputs": [],
   "source": [
    "# trignometric functions\n",
    "\n",
    "x = 45"
   ]
  },
  {
   "cell_type": "code",
   "execution_count": 19,
   "id": "a241903c",
   "metadata": {},
   "outputs": [
    {
     "name": "stdout",
     "output_type": "stream",
     "text": [
      "0.8509035245341184\n"
     ]
    }
   ],
   "source": [
    "print(math.sin(x))"
   ]
  },
  {
   "cell_type": "code",
   "execution_count": 20,
   "id": "d597ce40",
   "metadata": {},
   "outputs": [
    {
     "name": "stdout",
     "output_type": "stream",
     "text": [
      "0.5253219888177297\n"
     ]
    }
   ],
   "source": [
    "print(math.cos(x))"
   ]
  },
  {
   "cell_type": "code",
   "execution_count": 21,
   "id": "858b795a",
   "metadata": {},
   "outputs": [
    {
     "name": "stdout",
     "output_type": "stream",
     "text": [
      "1.6197751905438615\n"
     ]
    }
   ],
   "source": [
    "print(math.tan(x))"
   ]
  },
  {
   "cell_type": "code",
   "execution_count": 22,
   "id": "c37b4be7",
   "metadata": {},
   "outputs": [],
   "source": [
    "import statistics as stats"
   ]
  },
  {
   "cell_type": "code",
   "execution_count": 23,
   "id": "85a19910",
   "metadata": {},
   "outputs": [],
   "source": [
    "li = [1, 2, 3, 3, 3, 4, 4, 5, 6]"
   ]
  },
  {
   "cell_type": "code",
   "execution_count": 24,
   "id": "f95369d7",
   "metadata": {},
   "outputs": [
    {
     "name": "stdout",
     "output_type": "stream",
     "text": [
      "3.4444444444444446\n"
     ]
    }
   ],
   "source": [
    "print(stats.mean(li))"
   ]
  },
  {
   "cell_type": "code",
   "execution_count": 25,
   "id": "270a6b7a",
   "metadata": {},
   "outputs": [
    {
     "name": "stdout",
     "output_type": "stream",
     "text": [
      "3\n"
     ]
    }
   ],
   "source": [
    "print(stats.mode(li))"
   ]
  },
  {
   "cell_type": "code",
   "execution_count": 26,
   "id": "489345de",
   "metadata": {},
   "outputs": [
    {
     "name": "stdout",
     "output_type": "stream",
     "text": [
      "3\n"
     ]
    }
   ],
   "source": [
    "print(stats.median(li))"
   ]
  },
  {
   "cell_type": "code",
   "execution_count": 27,
   "id": "e7b74582",
   "metadata": {},
   "outputs": [],
   "source": [
    "import sys"
   ]
  },
  {
   "cell_type": "code",
   "execution_count": 28,
   "id": "d0e4d762",
   "metadata": {},
   "outputs": [
    {
     "name": "stdout",
     "output_type": "stream",
     "text": [
      "['D:\\\\Internship\\\\APSSDC', 'C:\\\\Users\\\\HP\\\\anaconda3\\\\python310.zip', 'C:\\\\Users\\\\HP\\\\anaconda3\\\\DLLs', 'C:\\\\Users\\\\HP\\\\anaconda3\\\\lib', 'C:\\\\Users\\\\HP\\\\anaconda3', '', 'C:\\\\Users\\\\HP\\\\anaconda3\\\\lib\\\\site-packages', 'C:\\\\Users\\\\HP\\\\anaconda3\\\\lib\\\\site-packages\\\\win32', 'C:\\\\Users\\\\HP\\\\anaconda3\\\\lib\\\\site-packages\\\\win32\\\\lib', 'C:\\\\Users\\\\HP\\\\anaconda3\\\\lib\\\\site-packages\\\\Pythonwin']\n"
     ]
    }
   ],
   "source": [
    "print(sys.path)"
   ]
  },
  {
   "cell_type": "code",
   "execution_count": 29,
   "id": "ebaff7ce",
   "metadata": {},
   "outputs": [],
   "source": [
    "import datetime as dt"
   ]
  },
  {
   "cell_type": "code",
   "execution_count": 30,
   "id": "c4c16405",
   "metadata": {},
   "outputs": [
    {
     "name": "stdout",
     "output_type": "stream",
     "text": [
      "2023-07-24\n"
     ]
    }
   ],
   "source": [
    "print(dt.date.today())"
   ]
  },
  {
   "cell_type": "code",
   "execution_count": 31,
   "id": "386f7686",
   "metadata": {},
   "outputs": [
    {
     "name": "stdout",
     "output_type": "stream",
     "text": [
      "2023-07-24\n"
     ]
    }
   ],
   "source": [
    "d = dt.date.today()\n",
    "print(d)"
   ]
  },
  {
   "cell_type": "code",
   "execution_count": 32,
   "id": "285c6da7",
   "metadata": {},
   "outputs": [
    {
     "name": "stdout",
     "output_type": "stream",
     "text": [
      "2023\n",
      "7\n",
      "24\n"
     ]
    }
   ],
   "source": [
    "print(d.year)\n",
    "print(d.month)\n",
    "print(d.day)"
   ]
  },
  {
   "cell_type": "code",
   "execution_count": null,
   "id": "5401f291",
   "metadata": {},
   "outputs": [],
   "source": []
  }
 ],
 "metadata": {
  "kernelspec": {
   "display_name": "Python 3 (ipykernel)",
   "language": "python",
   "name": "python3"
  },
  "language_info": {
   "codemirror_mode": {
    "name": "ipython",
    "version": 3
   },
   "file_extension": ".py",
   "mimetype": "text/x-python",
   "name": "python",
   "nbconvert_exporter": "python",
   "pygments_lexer": "ipython3",
   "version": "3.10.9"
  }
 },
 "nbformat": 4,
 "nbformat_minor": 5
}
