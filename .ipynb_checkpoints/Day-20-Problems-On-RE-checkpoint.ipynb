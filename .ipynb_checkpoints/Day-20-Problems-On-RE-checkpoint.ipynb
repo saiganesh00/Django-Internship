{
 "cells": [
  {
   "cell_type": "markdown",
   "id": "f8069fa3",
   "metadata": {},
   "source": [
    "### Day Objectives\n",
    "    - Problem solving on regular expression\n",
    "        -> phone number validation\n",
    "        -> email validation\n",
    "        "
   ]
  },
  {
   "cell_type": "markdown",
   "id": "11b69d11",
   "metadata": {},
   "source": [
    "#### Phone Number Validation\n",
    "    - basic phone number\n",
    "    - starts with 0, phone number\n",
    "    - starts with +91, phone number"
   ]
  },
  {
   "cell_type": "code",
   "execution_count": 2,
   "id": "d999b199",
   "metadata": {},
   "outputs": [],
   "source": [
    "import re"
   ]
  },
  {
   "cell_type": "code",
   "execution_count": 8,
   "id": "ae3dfaf3",
   "metadata": {},
   "outputs": [],
   "source": [
    "def validateNumber(number):\n",
    "    pattern = \"^[6-9][0-9]{9}$|^[0][6-9][0-9]{9}$|^[+][9][1][6-9][0-9]{9}$\"\n",
    "    if re.match(pattern, number):\n",
    "        return True\n",
    "    return False"
   ]
  },
  {
   "cell_type": "code",
   "execution_count": 9,
   "id": "2ff807b8",
   "metadata": {},
   "outputs": [
    {
     "name": "stdout",
     "output_type": "stream",
     "text": [
      "Enter mobile number: +916789012345\n",
      "The given number +916789012345 is a valid phone number\n"
     ]
    }
   ],
   "source": [
    "number = input(\"Enter mobile number: \")\n",
    "if validateNumber(number):\n",
    "    print(f\"The given number {number} is a valid phone number\")\n",
    "else:\n",
    "    print(f\"The given number {number} is not a valid phone number\")"
   ]
  },
  {
   "cell_type": "markdown",
   "id": "8e229bff",
   "metadata": {},
   "source": [
    "#### Gmail Validation\n",
    "    - (username@domain.extension)\n",
    "    - username  ---> starts with digits or alphabets and should not start with \" _ , \"\n",
    "    - remaining username ---> ( digits, alphabets, _ )\n",
    "    - @ ---> Character\n",
    "    - username length ---> 6 to 15 characters {8, 10}\n",
    "    - domain ---> consists of characters\n",
    "    - domain length ---> gmail, edu, yahoo,info {3, 10}\n",
    "    - . ---> dot\n",
    "    - extensions ---> consits of characters and length {2, 4}"
   ]
  },
  {
   "cell_type": "code",
   "execution_count": 27,
   "id": "44df883e",
   "metadata": {},
   "outputs": [],
   "source": [
    "def validateEmail(email):\n",
    "    pattern = '^[0-9a-z][0-9a-z_.-]{6,15}[@][a-z.]{3,7}[.][a-z]{2,4}$'\n",
    "    if re.match(pattern, email):\n",
    "        return True\n",
    "    return False"
   ]
  },
  {
   "cell_type": "code",
   "execution_count": 24,
   "id": "43a2a216",
   "metadata": {},
   "outputs": [
    {
     "name": "stdout",
     "output_type": "stream",
     "text": [
      "Enter a email: shanmukh@gmail.com\n",
      "The email shanmukh@gmail.com is a valid email\n"
     ]
    }
   ],
   "source": [
    "email = input(\"Enter a email: \")\n",
    "if validateEmail(email):\n",
    "    print(f\"The email {email} is a valid email\")\n",
    "else:\n",
    "    print(f\"The email {email} is not a valid email\")"
   ]
  },
  {
   "cell_type": "code",
   "execution_count": 26,
   "id": "4208f378",
   "metadata": {},
   "outputs": [
    {
     "name": "stdout",
     "output_type": "stream",
     "text": [
      "Enter a email: 20a91a05g3@aec.edu.in\n",
      "The email 20a91a05g3@aec.edu.in is a valid email\n"
     ]
    }
   ],
   "source": [
    "def validateEmail(email):\n",
    "    pattern = '^[0-9a-z][0-9a-z_.-]{6,15}[@][a-z.]{3,10}[.][a-z]{2,4}$'\n",
    "    if re.match(pattern, email):\n",
    "        return True\n",
    "    return False\n",
    "\n",
    "email = input(\"Enter a email: \")\n",
    "if validateEmail(email):\n",
    "    print(f\"The email {email} is a valid email\")\n",
    "else:\n",
    "    print(f\"The email {email} is not a valid email\")"
   ]
  },
  {
   "cell_type": "code",
   "execution_count": null,
   "id": "77841a84",
   "metadata": {},
   "outputs": [],
   "source": []
  }
 ],
 "metadata": {
  "kernelspec": {
   "display_name": "Python 3 (ipykernel)",
   "language": "python",
   "name": "python3"
  },
  "language_info": {
   "codemirror_mode": {
    "name": "ipython",
    "version": 3
   },
   "file_extension": ".py",
   "mimetype": "text/x-python",
   "name": "python",
   "nbconvert_exporter": "python",
   "pygments_lexer": "ipython3",
   "version": "3.10.9"
  }
 },
 "nbformat": 4,
 "nbformat_minor": 5
}
