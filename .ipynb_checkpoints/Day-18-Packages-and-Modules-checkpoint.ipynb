{
 "cells": [
  {
   "cell_type": "markdown",
   "id": "838aa322",
   "metadata": {},
   "source": [
    "### Day Objectives\n",
    "    - Packages and Modules\n",
    "        -> User-defined Modules\n",
    "    - Regular expression in python"
   ]
  },
  {
   "cell_type": "markdown",
   "id": "4761907f",
   "metadata": {},
   "source": [
    "#### User-defined Module:\n",
    "    - The module which is created by a user\n",
    "    - For accessing the module we need to use the \"import\" keyword\n",
    "    *** Synatax ***\n",
    "        import moduleName"
   ]
  },
  {
   "cell_type": "code",
   "execution_count": 1,
   "id": "b2fe8fb2",
   "metadata": {},
   "outputs": [
    {
     "name": "stdout",
     "output_type": "stream",
     "text": [
      "Enter a Number: 5\n",
      "The number 5 is a prime number\n"
     ]
    }
   ],
   "source": [
    "# user-defined module demo\n",
    "\n",
    "import packageModuleDemo as PMD\n",
    "\n",
    "num = int(input(\"Enter a Number: \"))\n",
    "if PMD.isPrime(num):\n",
    "    print(f\"The number {num} is a prime number\")\n",
    "else:\n",
    "    print(f\"The number {num} is a prime number\")"
   ]
  },
  {
   "cell_type": "markdown",
   "id": "fb8a9fa8",
   "metadata": {},
   "source": [
    "#### Regular Expression\n",
    "    - The regular expression in python are used to check the validity of the data.\n",
    "    - i.e., It checks whether the data is valid or not\n",
    "    - For regular expressions python provides a module called \"re\"\n",
    "    \n",
    "    *** Syntax ***\n",
    "        import re\n",
    "\n",
    "##### Methods in Regular Expression:\n",
    "    - search()\n",
    "    - match()\n",
    "    - findall()"
   ]
  },
  {
   "cell_type": "code",
   "execution_count": 2,
   "id": "e3bf6ba3",
   "metadata": {},
   "outputs": [],
   "source": [
    "import re"
   ]
  },
  {
   "cell_type": "markdown",
   "id": "7938f2ca",
   "metadata": {},
   "source": [
    "### search():\n",
    "    - we can verify the data upto end of the string\n",
    "    - The pattern checking continues till the end, even though the pattern is found\n",
    "    *** Syntax ***\n",
    "        re.search(stringPattern, stringData)\n",
    "    "
   ]
  },
  {
   "cell_type": "code",
   "execution_count": 5,
   "id": "bb2c8683",
   "metadata": {},
   "outputs": [
    {
     "name": "stdout",
     "output_type": "stream",
     "text": [
      "Enter a string: Python Programming\n",
      "Enter a pattern character: P\n",
      "<re.Match object; span=(0, 1), match='P'>\n"
     ]
    }
   ],
   "source": [
    "data = input(\"Enter a string: \")\n",
    "pattern = input(\"Enter a pattern character: \")\n",
    "print(re.search(pattern, data))"
   ]
  },
  {
   "cell_type": "code",
   "execution_count": 7,
   "id": "11b2a093",
   "metadata": {},
   "outputs": [
    {
     "name": "stdout",
     "output_type": "stream",
     "text": [
      "Shanmukh Hanuman Subhash Durga "
     ]
    }
   ],
   "source": [
    "# write a program to print the names that contains \"U\" in their names by using regular expression\n",
    "\n",
    "names = [\"Abhi\", \"Shanmukh\", \"Hanuman\", \"Subhash\", \"Durga\", \"Rajinikanth\", \"Mars\", \"Uma\"]\n",
    "for item in names:\n",
    "    if re.search('u', item):\n",
    "        print(item, end = \" \")"
   ]
  },
  {
   "cell_type": "markdown",
   "id": "b63f412b",
   "metadata": {},
   "source": [
    "### match():\n",
    "    - It will check and return the first occurence of a pattern that is present in the given data\n",
    "    - The pattern checking stops at the first occurence of the data\n",
    "    *** Syntax ***\n",
    "        re.match(stringPattern, stringData)"
   ]
  },
  {
   "cell_type": "code",
   "execution_count": 11,
   "id": "c7a66b3e",
   "metadata": {},
   "outputs": [
    {
     "name": "stdout",
     "output_type": "stream",
     "text": [
      "Enter a string: Shanmukh\n",
      "Enter a pattern character: n\n",
      "None\n"
     ]
    }
   ],
   "source": [
    "data = input(\"Enter a string: \")\n",
    "pattern = input(\"Enter a pattern character: \")\n",
    "print(re.match(pattern, data))"
   ]
  },
  {
   "cell_type": "markdown",
   "id": "7c5140fb",
   "metadata": {},
   "source": [
    "### findall():\n",
    "    *** Syntax ***\n",
    "        re.findall(stringPattern, stringData)"
   ]
  },
  {
   "cell_type": "code",
   "execution_count": 12,
   "id": "a5b9ae8f",
   "metadata": {},
   "outputs": [
    {
     "name": "stdout",
     "output_type": "stream",
     "text": [
      "Enter a string: Python Programming\n",
      "Enter a pattern character: m\n",
      "['m', 'm']\n"
     ]
    }
   ],
   "source": [
    "data = input(\"Enter a string: \")\n",
    "pattern = input(\"Enter a pattern character: \")\n",
    "print(re.findall(pattern, data))"
   ]
  },
  {
   "cell_type": "code",
   "execution_count": 13,
   "id": "f68bc200",
   "metadata": {},
   "outputs": [
    {
     "name": "stdout",
     "output_type": "stream",
     "text": [
      "['1', '2', '3', '4', '5', '6']\n"
     ]
    }
   ],
   "source": [
    "# digits pattern checking --> '/d'\n",
    "\n",
    "data = \"Python Programming 123456\"\n",
    "print(re.findall('\\d', data))"
   ]
  },
  {
   "cell_type": "markdown",
   "id": "2ef6979a",
   "metadata": {},
   "source": [
    "### Special characters in Regular Expression"
   ]
  },
  {
   "cell_type": "markdown",
   "id": "68e660e3",
   "metadata": {},
   "source": [
    "#### \". (dot)\" \n",
    "    - return charcaters based on the number of dots specified in the pattern"
   ]
  },
  {
   "cell_type": "code",
   "execution_count": 17,
   "id": "f8cff75f",
   "metadata": {},
   "outputs": [
    {
     "name": "stdout",
     "output_type": "stream",
     "text": [
      "<re.Match object; span=(0, 1), match='S'>\n"
     ]
    }
   ],
   "source": [
    "print(re.search('.', \"Shanmukh\"))"
   ]
  },
  {
   "cell_type": "code",
   "execution_count": 26,
   "id": "a7238142",
   "metadata": {},
   "outputs": [
    {
     "name": "stdout",
     "output_type": "stream",
     "text": [
      "['Sh', 'an', 'mu', 'kh']\n"
     ]
    }
   ],
   "source": [
    "print(re.findall('..', 'Shanmukh'))"
   ]
  },
  {
   "cell_type": "markdown",
   "id": "3d552700",
   "metadata": {},
   "source": [
    "#### \"^ (cap)\"\n",
    "    - checks the first character is present or not"
   ]
  },
  {
   "cell_type": "code",
   "execution_count": 19,
   "id": "6d697106",
   "metadata": {},
   "outputs": [
    {
     "name": "stdout",
     "output_type": "stream",
     "text": [
      "<re.Match object; span=(0, 1), match='S'>\n"
     ]
    }
   ],
   "source": [
    "print(re.search('^S', \"Shanmukh\"))"
   ]
  },
  {
   "cell_type": "code",
   "execution_count": 20,
   "id": "90ba504e",
   "metadata": {},
   "outputs": [
    {
     "name": "stdout",
     "output_type": "stream",
     "text": [
      "None\n"
     ]
    }
   ],
   "source": [
    "print(re.search('^h', \"Shanmukh\"))"
   ]
  },
  {
   "cell_type": "markdown",
   "id": "deb88229",
   "metadata": {},
   "source": [
    "#### \"$ (dollar)\"\n",
    "    - checks the last character is present or not"
   ]
  },
  {
   "cell_type": "code",
   "execution_count": 27,
   "id": "9afc49a5",
   "metadata": {},
   "outputs": [
    {
     "name": "stdout",
     "output_type": "stream",
     "text": [
      "None\n"
     ]
    }
   ],
   "source": [
    "print(re.match('$h', 'Shanmukh'))"
   ]
  },
  {
   "cell_type": "code",
   "execution_count": null,
   "id": "7030f001",
   "metadata": {},
   "outputs": [],
   "source": [
    "print(re.match('^...$', ))"
   ]
  },
  {
   "cell_type": "markdown",
   "id": "5f4dabb2",
   "metadata": {},
   "source": [
    "#### \"/d (digits)\"\n",
    "    - checks the single digits present in the string and returns a list"
   ]
  },
  {
   "cell_type": "code",
   "execution_count": 22,
   "id": "2cc5ff30",
   "metadata": {},
   "outputs": [
    {
     "name": "stdout",
     "output_type": "stream",
     "text": [
      "<re.Match object; span=(6, 7), match='1'>\n"
     ]
    }
   ],
   "source": [
    "print(re.search('\\d', 'python123'))"
   ]
  },
  {
   "cell_type": "code",
   "execution_count": 23,
   "id": "1e5df2b5",
   "metadata": {},
   "outputs": [
    {
     "name": "stdout",
     "output_type": "stream",
     "text": [
      "<re.Match object; span=(6, 8), match='12'>\n"
     ]
    }
   ],
   "source": [
    "print(re.search('\\d\\d', 'python123'))"
   ]
  },
  {
   "cell_type": "code",
   "execution_count": 24,
   "id": "8a0f89e3",
   "metadata": {},
   "outputs": [
    {
     "name": "stdout",
     "output_type": "stream",
     "text": [
      "<re.Match object; span=(6, 9), match='123'>\n"
     ]
    }
   ],
   "source": [
    "print(re.search('\\d\\d\\d', 'python123'))"
   ]
  },
  {
   "cell_type": "code",
   "execution_count": 25,
   "id": "6edb7049",
   "metadata": {},
   "outputs": [
    {
     "name": "stdout",
     "output_type": "stream",
     "text": [
      "['12']\n"
     ]
    }
   ],
   "source": [
    "print(re.findall('\\d\\d', 'python123'))"
   ]
  },
  {
   "cell_type": "code",
   "execution_count": null,
   "id": "6a094f2d",
   "metadata": {},
   "outputs": [],
   "source": []
  }
 ],
 "metadata": {
  "kernelspec": {
   "display_name": "Python 3 (ipykernel)",
   "language": "python",
   "name": "python3"
  },
  "language_info": {
   "codemirror_mode": {
    "name": "ipython",
    "version": 3
   },
   "file_extension": ".py",
   "mimetype": "text/x-python",
   "name": "python",
   "nbconvert_exporter": "python",
   "pygments_lexer": "ipython3",
   "version": "3.10.9"
  }
 },
 "nbformat": 4,
 "nbformat_minor": 5
}
