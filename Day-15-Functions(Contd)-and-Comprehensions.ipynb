{
 "cells": [
  {
   "cell_type": "markdown",
   "id": "d5eecc66",
   "metadata": {},
   "source": [
    "### Problem Solving On Functions"
   ]
  },
  {
   "cell_type": "code",
   "execution_count": 1,
   "id": "b6f3c3cd",
   "metadata": {},
   "outputs": [
    {
     "name": "stdout",
     "output_type": "stream",
     "text": [
      "Enter a number: 5\n",
      "The factorial of 5 is 120\n"
     ]
    }
   ],
   "source": [
    "# write to program to find the factorial of a number\n",
    "\n",
    "def factorial(num):\n",
    "    fact = 1\n",
    "    for i in range(1, num+1):\n",
    "        fact *= i\n",
    "    return fact\n",
    "\n",
    "num = int(input(\"Enter a number: \"))\n",
    "fact = factorial(num)\n",
    "print(f\"The factorial of {num} is {fact}\")"
   ]
  },
  {
   "cell_type": "code",
   "execution_count": 3,
   "id": "dfa8cd5c",
   "metadata": {},
   "outputs": [
    {
     "name": "stdout",
     "output_type": "stream",
     "text": [
      "Enter a number: 5\n",
      "The factorial of 5 is 120\n"
     ]
    }
   ],
   "source": [
    "# write to program to find the factorial of a number using recursion\n",
    "\n",
    "def factorialUsingRecursion(num):\n",
    "    if num == 1 or num == 0:\n",
    "        return 1\n",
    "    return num * factorialUsingRecursion(num - 1)\n",
    "\n",
    "num = int(input(\"Enter a number: \"))\n",
    "fact = factorialUsingRecursion(num)\n",
    "print(f\"The factorial of {num} is {fact}\")"
   ]
  },
  {
   "cell_type": "code",
   "execution_count": 4,
   "id": "8abcda65",
   "metadata": {},
   "outputs": [
    {
     "name": "stdout",
     "output_type": "stream",
     "text": [
      "Enter a number: 12\n",
      "The factors of 12 are [1, 2, 3, 4, 6, 12]\n"
     ]
    }
   ],
   "source": [
    "# wirte a program to find the factors of given number\n",
    "\n",
    "def findFactors(num):\n",
    "    factors = []\n",
    "    for i in range(1, num + 1):\n",
    "        if num % i == 0:\n",
    "            factors.append(i)\n",
    "    return factors\n",
    "\n",
    "num = int(input(\"Enter a number: \"))\n",
    "factors = findFactors(num)\n",
    "print(f\"The factors of {num} are {factors}\")"
   ]
  },
  {
   "cell_type": "code",
   "execution_count": 6,
   "id": "895a63aa",
   "metadata": {},
   "outputs": [
    {
     "name": "stdout",
     "output_type": "stream",
     "text": [
      "Enter a number: 20\n",
      "The given number 20 is not a prime number\n"
     ]
    }
   ],
   "source": [
    "# write a program to check whether given number is prime or not\n",
    "\n",
    "def isPrime(num):\n",
    "    flag = True\n",
    "    for i in range(2, num):\n",
    "        if num % i == 0:\n",
    "            flag = False\n",
    "            break\n",
    "        else:\n",
    "            continue\n",
    "    if flag:\n",
    "        return True\n",
    "    return False\n",
    "\n",
    "num = int(input(\"Enter a number: \"))\n",
    "if isPrime(num):\n",
    "    print(f\"The given number {num} is a prime number\")\n",
    "else:\n",
    "    print(f\"The given number {num} is not a prime number\")\n",
    "    "
   ]
  },
  {
   "cell_type": "code",
   "execution_count": 7,
   "id": "b18c00b4",
   "metadata": {},
   "outputs": [
    {
     "name": "stdout",
     "output_type": "stream",
     "text": [
      "Enter a number: 6\n",
      "The number 6 is a perfect number\n"
     ]
    }
   ],
   "source": [
    "# wite a program to check whether given number is perfect or not\n",
    "\n",
    "def isPerfect(num):\n",
    "    factorSum = 0\n",
    "    for i in range(1, num):\n",
    "        if num % i == 0:\n",
    "            factorSum += i\n",
    "    if factorSum == num:\n",
    "        return True\n",
    "    return False\n",
    "    \n",
    "num = int(input(\"Enter a number: \"))\n",
    "if isPerfect(num):\n",
    "    print(f\"The number {num} is a perfect number\")\n",
    "else:\n",
    "    print(f\"The number {num} is not a perfect number\")\n"
   ]
  },
  {
   "cell_type": "code",
   "execution_count": 11,
   "id": "e92e5cad",
   "metadata": {},
   "outputs": [
    {
     "name": "stdout",
     "output_type": "stream",
     "text": [
      "Enter the start year: 2000\n",
      "Enter the end year: 2020\n",
      "The leap years in the range of 2000 and 2020 are: [2000, 2004, 2008, 2012, 2016, 2020]\n"
     ]
    }
   ],
   "source": [
    "# write a program to find the leap years in a given range\n",
    "\n",
    "def isLeapYear(year):\n",
    "    if (year % 400) == 0 or (year % 4 == 0 and year % 100 != 0):\n",
    "        return True\n",
    "    return False\n",
    "\n",
    "startYear = int(input(\"Enter the start year: \"))\n",
    "endYear = int(input(\"Enter the end year: \"))\n",
    "leapYears = []\n",
    "for year in range(startYear, endYear+1):\n",
    "    if isLeapYear(year):\n",
    "        leapYears.append(year)\n",
    "    else:\n",
    "        continue\n",
    "print(f\"The leap years in the range of {startYear} and {endYear} are: {leapYears}\")"
   ]
  },
  {
   "cell_type": "code",
   "execution_count": 12,
   "id": "5fd078a0",
   "metadata": {},
   "outputs": [
    {
     "name": "stdout",
     "output_type": "stream",
     "text": [
      "Enter the start number: 1\n",
      "Enter the end number: 20\n",
      "The prime numbers in the range of 1 and 20 are [1, 2, 3, 5, 7, 11, 13, 17, 19]\n"
     ]
    }
   ],
   "source": [
    "# write a program to find prime numbers in given range\n",
    "\n",
    "def isPrime(num):\n",
    "    flag = True\n",
    "    for i in range(2, num):\n",
    "        if num % i == 0:\n",
    "            flag = False\n",
    "            break\n",
    "        else:\n",
    "            continue\n",
    "    if flag:\n",
    "        return True\n",
    "    return False\n",
    "\n",
    "startNum = int(input(\"Enter the start number: \"))\n",
    "endNum = int(input(\"Enter the end number: \"))\n",
    "primes = []\n",
    "for num in range(startNum, endNum):\n",
    "    if isPrime(num):\n",
    "        primes.append(num)\n",
    "print(f\"The prime numbers in the range of {startNum} and {endNum} are {primes}\")"
   ]
  },
  {
   "cell_type": "code",
   "execution_count": 13,
   "id": "2ca67104",
   "metadata": {},
   "outputs": [
    {
     "name": "stdout",
     "output_type": "stream",
     "text": [
      "Enter the start number: 1\n",
      "Enter the end number: 100\n",
      "The perfect numbers in the range of 1 and 100 are [6, 28]\n"
     ]
    }
   ],
   "source": [
    "# write a program to find the perfect numbers in the given range\n",
    "\n",
    "def isPerfect(num):\n",
    "    factorSum = 0\n",
    "    for i in range(1, num):\n",
    "        if num % i == 0:\n",
    "            factorSum += i\n",
    "    if factorSum == num:\n",
    "        return True\n",
    "    return False\n",
    "\n",
    "startNum = int(input(\"Enter the start number: \"))\n",
    "endNum = int(input(\"Enter the end number: \"))\n",
    "perfectNumbers = []\n",
    "for num in range(startNum, endNum):\n",
    "    if isPerfect(num):\n",
    "        perfectNumbers.append(num)\n",
    "print(f\"The perfect numbers in the range of {startNum} and {endNum} are {perfectNumbers}\")"
   ]
  },
  {
   "cell_type": "markdown",
   "id": "41a3377a",
   "metadata": {},
   "source": [
    "### Comprehensions in python\n",
    "    - It is the process of creating a new sequence from the existing sequence\n",
    "    - The main advantage is:\n",
    "        -> Time comprehension\n",
    "        -> Space comprehension\n",
    "        \n",
    "#### Types of comprehension\n",
    "    -> List comprehension\n",
    "    -> Dictonary comprehension\n",
    "    -> Set Comprehension"
   ]
  },
  {
   "cell_type": "markdown",
   "id": "6f249e91",
   "metadata": {},
   "source": [
    "#### List comprehension\n",
    "    *** Syntax ***\n",
    "       [outputVariable controlStatements conditionalStatements ]"
   ]
  },
  {
   "cell_type": "code",
   "execution_count": 15,
   "id": "155e8b3f",
   "metadata": {},
   "outputs": [
    {
     "name": "stdout",
     "output_type": "stream",
     "text": [
      "[1, 2, 3, 4, 5, 6, 7, 8, 9, 10, 11, 12, 13, 14, 15, 16, 17, 18, 19, 20]\n"
     ]
    }
   ],
   "source": [
    "# program to print the first 10 natural numbers\n",
    "\n",
    "li = [i for i in range(1, 21)]\n",
    "print(li)"
   ]
  },
  {
   "cell_type": "code",
   "execution_count": 18,
   "id": "04965c72",
   "metadata": {},
   "outputs": [
    {
     "name": "stdout",
     "output_type": "stream",
     "text": [
      "['Hello,', 'How', 'are', 'you', '?']\n"
     ]
    }
   ],
   "source": [
    "# program to print the words of string using list\n",
    "\n",
    "st = [\"Hello, How are you ?\"]\n",
    "li = [ word for ch in st for word in ch.split() ]\n",
    "print(li)"
   ]
  },
  {
   "cell_type": "markdown",
   "id": "f654a048",
   "metadata": {},
   "source": [
    "#### Dictonary Compreshension\n",
    "    *** Syntax ***\n",
    "        [outputVariable controlStatements conditionalStatements ]"
   ]
  },
  {
   "cell_type": "code",
   "execution_count": 19,
   "id": "982fa2e9",
   "metadata": {},
   "outputs": [],
   "source": [
    "# program to print the squares of a number\n",
    "\n",
    "di = { i:i*i for i in range(1, 6) }"
   ]
  },
  {
   "cell_type": "code",
   "execution_count": 20,
   "id": "50b70efd",
   "metadata": {},
   "outputs": [
    {
     "name": "stdout",
     "output_type": "stream",
     "text": [
      "{1: 1, 2: 4, 3: 9, 4: 16, 5: 25}\n"
     ]
    }
   ],
   "source": [
    "print(di)"
   ]
  },
  {
   "cell_type": "code",
   "execution_count": 21,
   "id": "aea3f7e9",
   "metadata": {},
   "outputs": [
    {
     "name": "stdout",
     "output_type": "stream",
     "text": [
      "{1: 1, 2: 8, 3: 27, 4: 64, 5: 125, 6: 216}\n"
     ]
    }
   ],
   "source": [
    "# program to print the cubes of a number\n",
    "\n",
    "li = [1, 2, 3, 4, 5, 6]\n",
    "di1 = { i:i**3 for i in li }\n",
    "print(di1)"
   ]
  },
  {
   "cell_type": "markdown",
   "id": "f6292473",
   "metadata": {},
   "source": [
    "### Set Comprehension\n",
    "    *** Syntax ***\n",
    "        [outputVariable controlStatements conditionalStatements ]\n",
    "        "
   ]
  },
  {
   "cell_type": "code",
   "execution_count": 22,
   "id": "474759d7",
   "metadata": {},
   "outputs": [
    {
     "name": "stdout",
     "output_type": "stream",
     "text": [
      "{1, 2, 3, 4, 5}\n"
     ]
    }
   ],
   "source": [
    "# program to insert the numbers in a set\n",
    "\n",
    "set1 = { i for i in range(1, 6) }\n",
    "print(set1)"
   ]
  },
  {
   "cell_type": "code",
   "execution_count": 23,
   "id": "b5841e58",
   "metadata": {},
   "outputs": [
    {
     "name": "stdout",
     "output_type": "stream",
     "text": [
      "{1, 9, 81, 49, 25}\n"
     ]
    }
   ],
   "source": [
    "# program to insert the odd numbers from a given list\n",
    "\n",
    "li1 = [1, 2, 3, 4, 5, 6, 7, 8, 9, 10]\n",
    "set2 = { i**2 for i in li1 if i % 2 != 0 }\n",
    "print(set2)"
   ]
  },
  {
   "cell_type": "code",
   "execution_count": null,
   "id": "a8051d22",
   "metadata": {},
   "outputs": [],
   "source": []
  }
 ],
 "metadata": {
  "kernelspec": {
   "display_name": "Python 3 (ipykernel)",
   "language": "python",
   "name": "python3"
  },
  "language_info": {
   "codemirror_mode": {
    "name": "ipython",
    "version": 3
   },
   "file_extension": ".py",
   "mimetype": "text/x-python",
   "name": "python",
   "nbconvert_exporter": "python",
   "pygments_lexer": "ipython3",
   "version": "3.10.9"
  }
 },
 "nbformat": 4,
 "nbformat_minor": 5
}
