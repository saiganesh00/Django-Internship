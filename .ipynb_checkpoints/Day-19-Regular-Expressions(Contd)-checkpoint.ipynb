{
 "cells": [
  {
   "cell_type": "markdown",
   "id": "f4a90342",
   "metadata": {},
   "source": [
    "### Day Objectives\n",
    "    - Regular Expression in Python\n",
    "    - Special Characters in regular expression\n",
    "    \n",
    "#### Special Characters in Regular Expressions\n",
    "    -> . (dot) Any single character\n",
    "    -> ^ (cap) starts with\n",
    "    -> \"$\" (dollar) ends with\n",
    "    -> \\d (digits) single digit\n",
    "    -> {min, max} -->length\n",
    "    -> [charcters] --> matches atleast 1 character\n",
    "    -> [^ach] --> neither a nor c nor h\n",
    "    -> ^[a-c] --> only starts with either a or b or c and matches first charcter that is found\n",
    "    -> \\D --> matches other than small \\d i.e., other than digits\n",
    "    -> \\s --> It indicates single spacing character i.e., matches with single space character\n",
    "    -> \\S ---> It indicates other than \\s i.e., any charcter other a single space character\n",
    "    -> \\w\n",
    "    -> \\W\n",
    "    "
   ]
  },
  {
   "cell_type": "code",
   "execution_count": 11,
   "id": "f3d9215b",
   "metadata": {},
   "outputs": [],
   "source": [
    "import re"
   ]
  },
  {
   "cell_type": "code",
   "execution_count": 12,
   "id": "d350e227",
   "metadata": {},
   "outputs": [
    {
     "name": "stdout",
     "output_type": "stream",
     "text": [
      "Enter a name: Shanmukh\n",
      "<re.Match object; span=(0, 4), match='Shan'>\n"
     ]
    }
   ],
   "source": [
    "# {min} --> minimum length for a string\n",
    "\n",
    "name = input(\"Enter a name: \")\n",
    "print(re.search('.{4}', name))"
   ]
  },
  {
   "cell_type": "code",
   "execution_count": 13,
   "id": "d9fce711",
   "metadata": {},
   "outputs": [
    {
     "name": "stdout",
     "output_type": "stream",
     "text": [
      "Enter a name: Shanmukh\n",
      "<re.Match object; span=(0, 2), match='Sh'>\n"
     ]
    }
   ],
   "source": [
    "# {min, max} --> minimum and maximum length for a string\n",
    "\n",
    "name = input(\"Enter a name: \")\n",
    "print(re.search('.{2}', name))"
   ]
  },
  {
   "cell_type": "code",
   "execution_count": 14,
   "id": "7b748b3a",
   "metadata": {},
   "outputs": [
    {
     "name": "stdout",
     "output_type": "stream",
     "text": [
      "Enter a name: Shanmukh\n",
      "None\n"
     ]
    }
   ],
   "source": [
    "# {min, max} --> minimum and maximum length for a string\n",
    "\n",
    "name = input(\"Enter a name: \")\n",
    "print(re.search('.{2, 5}', name))"
   ]
  },
  {
   "cell_type": "code",
   "execution_count": 15,
   "id": "c2772f25",
   "metadata": {},
   "outputs": [
    {
     "name": "stdout",
     "output_type": "stream",
     "text": [
      "Enter a name: Shanmukh\n",
      "<re.Match object; span=(2, 3), match='a'>\n"
     ]
    }
   ],
   "source": [
    "# [ach] --> matches atleast on the character specified\n",
    "\n",
    "name = input(\"Enter a name: \")\n",
    "print(re.search('[an]', name))"
   ]
  },
  {
   "cell_type": "code",
   "execution_count": 16,
   "id": "3b925446",
   "metadata": {},
   "outputs": [
    {
     "name": "stdout",
     "output_type": "stream",
     "text": [
      "<re.Match object; span=(0, 1), match='h'>\n"
     ]
    }
   ],
   "source": [
    "# [a-z] --> checks from a to z and matches first character of pattern string\n",
    "\n",
    "print(re.search('[a-k]', 'hai'))"
   ]
  },
  {
   "cell_type": "code",
   "execution_count": 18,
   "id": "f2ec4cc8",
   "metadata": {},
   "outputs": [
    {
     "name": "stdout",
     "output_type": "stream",
     "text": [
      "<re.Match object; span=(6, 7), match='h'>\n"
     ]
    }
   ],
   "source": [
    "# [^ach] --> neither a nor b nor h i.e., rmatches other characters other than \"ach\"\n",
    "\n",
    "print(re.search('[^acd]', \"acdacdhello\"))"
   ]
  },
  {
   "cell_type": "code",
   "execution_count": 20,
   "id": "1a8aa4d4",
   "metadata": {},
   "outputs": [
    {
     "name": "stdout",
     "output_type": "stream",
     "text": [
      "None\n"
     ]
    }
   ],
   "source": [
    "# ^[a-d] --> only starts with a or b or c or d\n",
    "\n",
    "print(re.search('^[a-d]', 'umbrella'))"
   ]
  },
  {
   "cell_type": "code",
   "execution_count": 21,
   "id": "b5bced2b",
   "metadata": {},
   "outputs": [
    {
     "name": "stdout",
     "output_type": "stream",
     "text": [
      "<re.Match object; span=(0, 1), match='a'>\n"
     ]
    }
   ],
   "source": [
    "print(re.search('^[a-d]', 'apple'))"
   ]
  },
  {
   "cell_type": "code",
   "execution_count": 22,
   "id": "37b751fb",
   "metadata": {},
   "outputs": [
    {
     "name": "stdout",
     "output_type": "stream",
     "text": [
      "<re.Match object; span=(0, 1), match='a'>\n"
     ]
    }
   ],
   "source": [
    "print(re.search('^[a-d]', 'abstract'))"
   ]
  },
  {
   "cell_type": "code",
   "execution_count": 23,
   "id": "6b82cd54",
   "metadata": {},
   "outputs": [
    {
     "name": "stdout",
     "output_type": "stream",
     "text": [
      "<re.Match object; span=(0, 1), match='b'>\n"
     ]
    }
   ],
   "source": [
    "print(re.match('^[a-c]', 'bottle'))"
   ]
  },
  {
   "cell_type": "code",
   "execution_count": 25,
   "id": "b558403f",
   "metadata": {},
   "outputs": [
    {
     "name": "stdout",
     "output_type": "stream",
     "text": [
      "<re.Match object; span=(6, 7), match='6'>\n",
      "<re.Match object; span=(3, 4), match='p'>\n"
     ]
    }
   ],
   "source": [
    "# \\D --> matches other than small \\d i.e., other than digits\n",
    "# matches any single character other than single digit numbers\n",
    "\n",
    "print(re.search('\\d', \"python659\"))\n",
    "print(re.search('\\D', \"659python\"))"
   ]
  },
  {
   "cell_type": "code",
   "execution_count": 26,
   "id": "10997ec9",
   "metadata": {},
   "outputs": [
    {
     "name": "stdout",
     "output_type": "stream",
     "text": [
      "None\n"
     ]
    }
   ],
   "source": [
    "print(re.search('\\D', '678'))"
   ]
  },
  {
   "cell_type": "code",
   "execution_count": 27,
   "id": "ae143caa",
   "metadata": {},
   "outputs": [
    {
     "name": "stdout",
     "output_type": "stream",
     "text": [
      "<re.Match object; span=(6, 7), match=' '>\n"
     ]
    }
   ],
   "source": [
    "# \\s --> It indicates single spacing character\n",
    "# i.e., matches with single space character\n",
    "\n",
    "print(re.search('\\s', 'Python Progrmming'))"
   ]
  },
  {
   "cell_type": "code",
   "execution_count": 28,
   "id": "354be2a5",
   "metadata": {},
   "outputs": [
    {
     "name": "stdout",
     "output_type": "stream",
     "text": [
      "<re.Match object; span=(2, 3), match='A'>\n"
     ]
    }
   ],
   "source": [
    "# \\S ---> It indicates other than \\s i.e., any charcter other a single space character\n",
    "\n",
    "print(re.search('\\S', '  APSSDC'))"
   ]
  },
  {
   "cell_type": "code",
   "execution_count": 30,
   "id": "6b71881b",
   "metadata": {},
   "outputs": [
    {
     "name": "stdout",
     "output_type": "stream",
     "text": [
      "None\n"
     ]
    }
   ],
   "source": [
    "print(re.search('\\S', ' '))"
   ]
  },
  {
   "cell_type": "code",
   "execution_count": 32,
   "id": "fac8635c",
   "metadata": {},
   "outputs": [
    {
     "name": "stdout",
     "output_type": "stream",
     "text": [
      "<re.Match object; span=(0, 1), match='P'>\n"
     ]
    }
   ],
   "source": [
    "# \\w --> it indicates the single identifier\n",
    "\n",
    "print(re.search('\\w', 'Python Programming'))"
   ]
  },
  {
   "cell_type": "code",
   "execution_count": 33,
   "id": "664d8447",
   "metadata": {},
   "outputs": [
    {
     "name": "stdout",
     "output_type": "stream",
     "text": [
      "<re.Match object; span=(2, 3), match='_'>\n"
     ]
    }
   ],
   "source": [
    "print(re.search('\\w', \"  _Shanmukh\"))"
   ]
  },
  {
   "cell_type": "code",
   "execution_count": 34,
   "id": "b66e9a9f",
   "metadata": {},
   "outputs": [
    {
     "name": "stdout",
     "output_type": "stream",
     "text": [
      "<re.Match object; span=(0, 1), match=' '>\n"
     ]
    }
   ],
   "source": [
    "# \\W --> it matches other than identifiers\n",
    "\n",
    "print(re.search('\\W', \"  _Shanmukh\"))"
   ]
  },
  {
   "cell_type": "code",
   "execution_count": 35,
   "id": "01d2f024",
   "metadata": {},
   "outputs": [
    {
     "name": "stdout",
     "output_type": "stream",
     "text": [
      "<re.Match object; span=(8, 9), match=' '>\n"
     ]
    }
   ],
   "source": [
    "print(re.search('\\W', \"Shanmukh  \"))"
   ]
  },
  {
   "cell_type": "markdown",
   "id": "a2b24335",
   "metadata": {},
   "source": [
    "#### Problem-Solving on Regular Expressions"
   ]
  },
  {
   "cell_type": "code",
   "execution_count": 37,
   "id": "abc11db2",
   "metadata": {},
   "outputs": [
    {
     "name": "stdout",
     "output_type": "stream",
     "text": [
      "Enter a number: 9999999999\n",
      "9999999999 is valid\n"
     ]
    }
   ],
   "source": [
    "# write a program to check whether the given phone number is valid or not\n",
    "# number starts with ^[6-9]\n",
    "# number length is {9}\n",
    "# digits --> [0-9]\n",
    "\n",
    "number = input(\"Enter a number: \")\n",
    "pattern = \"^[6-9][0-9]{9}$\"\n",
    "if re.search(pattern, number) != None:\n",
    "    print(f\"{number} is valid\")\n",
    "else:\n",
    "    print(f\"{number} is not valid\")"
   ]
  },
  {
   "cell_type": "code",
   "execution_count": 39,
   "id": "b5a4d2ca",
   "metadata": {},
   "outputs": [
    {
     "name": "stdout",
     "output_type": "stream",
     "text": [
      "Enter a phone number: 9988776655\n",
      "The 9988776655 is a valid phone number\n"
     ]
    }
   ],
   "source": [
    "def isValidOrNot(number):\n",
    "    pattern = \"^[6-9][0-9]{9}$\"\n",
    "    if re.match(pattern, number):\n",
    "        return True\n",
    "    return False\n",
    "\n",
    "number = input(\"Enter a phone number: \")\n",
    "if isValidOrNot(number):\n",
    "    print(f\"The {number} is a valid phone number\")\n",
    "else:\n",
    "    print(f\"The {number} is not a valid phone number\")"
   ]
  },
  {
   "cell_type": "markdown",
   "id": "559a9a6b",
   "metadata": {},
   "source": [
    "##### Task\n",
    "    - starts with 0\n",
    "    - starts with +91\n",
    "    "
   ]
  },
  {
   "cell_type": "code",
   "execution_count": null,
   "id": "51394703",
   "metadata": {},
   "outputs": [],
   "source": []
  }
 ],
 "metadata": {
  "kernelspec": {
   "display_name": "Python 3 (ipykernel)",
   "language": "python",
   "name": "python3"
  },
  "language_info": {
   "codemirror_mode": {
    "name": "ipython",
    "version": 3
   },
   "file_extension": ".py",
   "mimetype": "text/x-python",
   "name": "python",
   "nbconvert_exporter": "python",
   "pygments_lexer": "ipython3",
   "version": "3.10.9"
  }
 },
 "nbformat": 4,
 "nbformat_minor": 5
}
