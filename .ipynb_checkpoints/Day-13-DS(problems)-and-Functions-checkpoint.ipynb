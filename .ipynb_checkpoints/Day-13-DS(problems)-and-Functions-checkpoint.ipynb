{
 "cells": [
  {
   "cell_type": "markdown",
   "id": "03ffd6c0",
   "metadata": {},
   "source": [
    "### Problem Solving on Lists"
   ]
  },
  {
   "cell_type": "code",
   "execution_count": 1,
   "id": "6451918d",
   "metadata": {},
   "outputs": [
    {
     "name": "stdout",
     "output_type": "stream",
     "text": [
      "Enter the numbers of the list: 1 2 3 4 5\n",
      "List of numbers:  [1, 2, 3, 4, 5]\n"
     ]
    }
   ],
   "source": [
    "# read a list of numbers\n",
    "\n",
    "list1 = input(\"Enter the numbers of the list: \").split()\n",
    "list2 = []\n",
    "for num in list1:\n",
    "    list2.append(int(num))\n",
    "print(\"List of numbers: \", list2)"
   ]
  },
  {
   "cell_type": "code",
   "execution_count": 3,
   "id": "728b6c96",
   "metadata": {},
   "outputs": [
    {
     "name": "stdout",
     "output_type": "stream",
     "text": [
      "Enter your list of numbers: 2 3 5 7 11\n",
      "['2', '3', '5', '7', '11']\n"
     ]
    }
   ],
   "source": [
    "# reading a list of numbers\n",
    "\n",
    "integerList = input(\"Enter your list of numbers: \").split()\n",
    "print(integerList)"
   ]
  },
  {
   "cell_type": "code",
   "execution_count": 4,
   "id": "58353fed",
   "metadata": {},
   "outputs": [
    {
     "name": "stdout",
     "output_type": "stream",
     "text": [
      "Enter the list of numbers: 1 2 3 4 5 6\n",
      "Even Sum: 12\n",
      "Odd Sum: 9\n"
     ]
    }
   ],
   "source": [
    "# read a list of numbers and print the sum of even integers and odd integers\n",
    "\n",
    "li = input(\"Enter the list of numbers: \").split()\n",
    "evenSum = 0\n",
    "oddSum = 0\n",
    "\n",
    "for num in li:\n",
    "    if int(num) % 2 == 0:\n",
    "        evenSum += int(num)\n",
    "    else:\n",
    "        oddSum += int(num)\n",
    "print(f\"Even Sum: {evenSum}\")\n",
    "print(f\"Odd Sum: {oddSum}\")"
   ]
  },
  {
   "cell_type": "code",
   "execution_count": 5,
   "id": "255304a0",
   "metadata": {},
   "outputs": [
    {
     "name": "stdout",
     "output_type": "stream",
     "text": [
      "Enter the list of elements: 10 20 30 40 20 30 50 60 70\n",
      "Original List: ['10', '20', '30', '40', '20', '30', '50', '60', '70']\n",
      "Unique List: [10, 20, 30, 40, 50, 60, 70]\n"
     ]
    }
   ],
   "source": [
    "# read a list of elements and remove the duplicates\n",
    "\n",
    "list3 = input(\"Enter the list of elements: \").split()\n",
    "uniqueList = []\n",
    "\n",
    "for item in list3:\n",
    "    if int(item) not in uniqueList:\n",
    "        uniqueList.append(int(item))\n",
    "\n",
    "print(f\"Original List: {list3}\")\n",
    "print(f\"Unique List: {uniqueList}\")"
   ]
  },
  {
   "cell_type": "code",
   "execution_count": 6,
   "id": "eb22cb3d",
   "metadata": {},
   "outputs": [
    {
     "name": "stdout",
     "output_type": "stream",
     "text": [
      "Enter the list of elements: 10 20 30 40 50 60 70 80\n",
      "Even Index Position elements from arr: ['10', '30', '50', '70']\n",
      "Odd Index Position elements from arr: ['20', '40', '60', '80']\n"
     ]
    }
   ],
   "source": [
    "# print the elements which are at odd index\n",
    "\n",
    "arr = input(\"Enter the list of elements: \").split()\n",
    "oddIndexElements = []\n",
    "evenIndexElements = []\n",
    "\n",
    "for i in range(len(arr)):\n",
    "    if i%2 != 0:\n",
    "        oddIndexElements.append(arr[i])\n",
    "    else:\n",
    "        evenIndexElements.append(arr[i])\n",
    "print(f\"Even Index Position elements from arr: {evenIndexElements}\")\n",
    "print(f\"Odd Index Position elements from arr: {oddIndexElements}\")"
   ]
  },
  {
   "cell_type": "markdown",
   "id": "4a6af110",
   "metadata": {},
   "source": [
    "### Functions in Python\n",
    "    - Function in python is set of related statements that perform a specific task\n",
    "    - Function is a block of code which only runs when it is called\n",
    "    \n",
    "    *** Syntax ***\n",
    "    \n",
    "        ->For the Function definition python provides the \"def\" keyword\n",
    "        \n",
    "            def function_name(parameters)\n",
    "                # set of statements\n",
    "         \n",
    "         -> Function call\n",
    "         \n",
    "             function_name(parameters)\n",
    "    \n",
    "#### Advantages\n",
    "    - Code Reusability\n",
    "    - It divides a large program into simpler one\n",
    "  \n",
    "#### Types of Funtions in Python\n",
    "    - Buit-in functions\n",
    "        Ex: print(), min(), max(), len(), sum()\n",
    "    - User-defined functions\n",
    "        -> These functions are created by user.\n",
    "        -> User defined functions are divided into four types\n",
    "        \n",
    "   ##### Types of user-defined functions\n",
    "       -> Functions with arguments and with return value\n",
    "       -> Functions with arguments and without return value\n",
    "       -> Functions without arguments and with return value\n",
    "       -> Functions without arguments and without return value\n",
    "        "
   ]
  },
  {
   "cell_type": "code",
   "execution_count": 8,
   "id": "0d4e1835",
   "metadata": {},
   "outputs": [
    {
     "name": "stdout",
     "output_type": "stream",
     "text": [
      "Enter the number1: 20\n",
      "Enter the number2: 30\n",
      "Addition of 20 and 30 is 50\n"
     ]
    }
   ],
   "source": [
    "# Function with arguments and with return value\n",
    "\n",
    "def addNumbers(num1, num2):\n",
    "    return num1 + num2\n",
    "\n",
    "number1 = int(input(\"Enter the number1: \"))\n",
    "number2 = int(input(\"Enter the number2: \"))\n",
    "print(f\"Addition of {number1} and {number2} is {addNumbers(number1, number2)}\")"
   ]
  },
  {
   "cell_type": "code",
   "execution_count": 9,
   "id": "b3e4231f",
   "metadata": {},
   "outputs": [
    {
     "name": "stdout",
     "output_type": "stream",
     "text": [
      "Enter the number1: 20\n",
      "Enter the number2: 30\n",
      "Addition of 20 and 30 is 50\n"
     ]
    }
   ],
   "source": [
    "# Function with arguments and without return value\n",
    "\n",
    "def addNumbers(num1, num2):\n",
    "    print(f\"Addition of {num1} and {num2} is {num1 + num2}\")\n",
    "\n",
    "number1 = int(input(\"Enter the number1: \"))\n",
    "number2 = int(input(\"Enter the number2: \"))\n",
    "addNumbers(number1, number2)"
   ]
  },
  {
   "cell_type": "code",
   "execution_count": null,
   "id": "75ab1b35",
   "metadata": {},
   "outputs": [],
   "source": []
  }
 ],
 "metadata": {
  "kernelspec": {
   "display_name": "Python 3 (ipykernel)",
   "language": "python",
   "name": "python3"
  },
  "language_info": {
   "codemirror_mode": {
    "name": "ipython",
    "version": 3
   },
   "file_extension": ".py",
   "mimetype": "text/x-python",
   "name": "python",
   "nbconvert_exporter": "python",
   "pygments_lexer": "ipython3",
   "version": "3.10.9"
  }
 },
 "nbformat": 4,
 "nbformat_minor": 5
}
