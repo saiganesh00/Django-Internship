{
 "cells": [
  {
   "cell_type": "code",
   "execution_count": 5,
   "id": "2f4da7ce",
   "metadata": {},
   "outputs": [
    {
     "name": "stdout",
     "output_type": "stream",
     "text": [
      "Enter start value: 10\n",
      "Enter end value: 0\n",
      "Enter increment/decrement value: -1\n",
      "10 9 8 7 6 5 4 3 2 1 "
     ]
    }
   ],
   "source": [
    "# program to print numbers\n",
    "\n",
    "start = int(input(\"Enter start value: \"))\n",
    "end  = int(input(\"Enter end value: \"))\n",
    "step = int(input(\"Enter increment/decrement value: \"))\n",
    "for i in range(start, end, step):\n",
    "    print(i, end = ' ')"
   ]
  },
  {
   "cell_type": "markdown",
   "id": "f26d2bc1",
   "metadata": {},
   "source": [
    "### ASCII VALUES\n",
    "    - To find the ascii values, python provides us the \"ord()\" function\n",
    "    - the \"ord\" function returns the ascii value of a character"
   ]
  },
  {
   "cell_type": "code",
   "execution_count": 2,
   "id": "b23165ca",
   "metadata": {},
   "outputs": [
    {
     "data": {
      "text/plain": [
       "65"
      ]
     },
     "execution_count": 2,
     "metadata": {},
     "output_type": "execute_result"
    }
   ],
   "source": [
    "ord('A')"
   ]
  },
  {
   "cell_type": "code",
   "execution_count": 3,
   "id": "fa0f83a8",
   "metadata": {},
   "outputs": [
    {
     "data": {
      "text/plain": [
       "97"
      ]
     },
     "execution_count": 3,
     "metadata": {},
     "output_type": "execute_result"
    }
   ],
   "source": [
    "ord('a')"
   ]
  },
  {
   "cell_type": "code",
   "execution_count": 4,
   "id": "d504333d",
   "metadata": {},
   "outputs": [
    {
     "data": {
      "text/plain": [
       "49"
      ]
     },
     "execution_count": 4,
     "metadata": {},
     "output_type": "execute_result"
    }
   ],
   "source": [
    "ord('1')"
   ]
  },
  {
   "cell_type": "code",
   "execution_count": 6,
   "id": "ea4c855e",
   "metadata": {},
   "outputs": [
    {
     "name": "stdout",
     "output_type": "stream",
     "text": [
      "A B C D E F G H I J K L M N O P Q R S T U V W X Y Z "
     ]
    }
   ],
   "source": [
    "# program to print the uppercase alphabets\n",
    "\n",
    "for i in range(ord('A'), ord('Z')+1):\n",
    "    print(chr(i), end = ' ')"
   ]
  },
  {
   "cell_type": "code",
   "execution_count": 7,
   "id": "88f52896",
   "metadata": {},
   "outputs": [
    {
     "name": "stdout",
     "output_type": "stream",
     "text": [
      "a b c d e f g h i j k l m n o p q r s t u v w x y z "
     ]
    }
   ],
   "source": [
    "# program to print the lowercase alphabets\n",
    "\n",
    "for i in range(ord('a'), ord('z')+1):\n",
    "    print(chr(i), end = ' ')"
   ]
  },
  {
   "cell_type": "code",
   "execution_count": 10,
   "id": "3dd5439f",
   "metadata": {},
   "outputs": [
    {
     "name": "stdout",
     "output_type": "stream",
     "text": [
      "A ---> 65\n",
      "B ---> 66\n",
      "C ---> 67\n",
      "D ---> 68\n",
      "E ---> 69\n",
      "F ---> 70\n",
      "G ---> 71\n",
      "H ---> 72\n",
      "I ---> 73\n",
      "J ---> 74\n",
      "K ---> 75\n",
      "L ---> 76\n",
      "M ---> 77\n",
      "N ---> 78\n",
      "O ---> 79\n",
      "P ---> 80\n",
      "Q ---> 81\n",
      "R ---> 82\n",
      "S ---> 83\n",
      "T ---> 84\n",
      "U ---> 85\n",
      "V ---> 86\n",
      "W ---> 87\n",
      "X ---> 88\n",
      "Y ---> 89\n",
      "Z ---> 90\n"
     ]
    }
   ],
   "source": [
    "# program to print uppercase alphabets along with their ascii values\n",
    "for i in range(ord('A'), ord('Z')+1):\n",
    "    print(f\"{chr(i)} ---> {i}\")"
   ]
  },
  {
   "cell_type": "code",
   "execution_count": 12,
   "id": "e4b95472",
   "metadata": {},
   "outputs": [
    {
     "name": "stdout",
     "output_type": "stream",
     "text": [
      "a ---> 97\n",
      "b ---> 98\n",
      "c ---> 99\n",
      "d ---> 100\n",
      "e ---> 101\n",
      "f ---> 102\n",
      "g ---> 103\n",
      "h ---> 104\n",
      "i ---> 105\n",
      "j ---> 106\n",
      "k ---> 107\n",
      "l ---> 108\n",
      "m ---> 109\n",
      "n ---> 110\n",
      "o ---> 111\n",
      "p ---> 112\n",
      "q ---> 113\n",
      "r ---> 114\n",
      "s ---> 115\n",
      "t ---> 116\n",
      "u ---> 117\n",
      "v ---> 118\n",
      "w ---> 119\n",
      "x ---> 120\n",
      "y ---> 121\n",
      "z ---> 122\n"
     ]
    }
   ],
   "source": [
    "# program to print lowercase alphabets along with their ascii values\n",
    "for i in range(ord('a'), ord('z')+1):\n",
    "    print(f\"{chr(i)} ---> {i}\")"
   ]
  },
  {
   "cell_type": "code",
   "execution_count": 13,
   "id": "62ec4be8",
   "metadata": {},
   "outputs": [
    {
     "name": "stdout",
     "output_type": "stream",
     "text": [
      "A --> 65\n",
      "C --> 67\n",
      "E --> 69\n",
      "G --> 71\n",
      "I --> 73\n",
      "K --> 75\n",
      "M --> 77\n",
      "O --> 79\n",
      "Q --> 81\n",
      "S --> 83\n",
      "U --> 85\n",
      "W --> 87\n",
      "Y --> 89\n"
     ]
    }
   ],
   "source": [
    "# program to print the odd ASCII values along with their corresponding alphabets\n",
    "\n",
    "for i in range(ord('A'), ord('Z')+1):\n",
    "    if(i % 2 != 0):\n",
    "        print(f\"{chr(i)} --> {i}\")"
   ]
  },
  {
   "cell_type": "code",
   "execution_count": 14,
   "id": "702bdc75",
   "metadata": {},
   "outputs": [
    {
     "name": "stdout",
     "output_type": "stream",
     "text": [
      "B --> 66\n",
      "D --> 68\n",
      "F --> 70\n",
      "H --> 72\n",
      "J --> 74\n",
      "L --> 76\n",
      "N --> 78\n",
      "P --> 80\n",
      "R --> 82\n",
      "T --> 84\n",
      "V --> 86\n",
      "X --> 88\n",
      "Z --> 90\n"
     ]
    }
   ],
   "source": [
    "# program to print the even ASCII values along with their corresponding alphabets\n",
    "\n",
    "for i in range(ord('A'), ord('Z')+1):\n",
    "    if(i % 2 == 0):\n",
    "        print(f\"{chr(i)} --> {i}\")"
   ]
  },
  {
   "cell_type": "code",
   "execution_count": 15,
   "id": "7409e8ab",
   "metadata": {},
   "outputs": [
    {
     "name": "stdout",
     "output_type": "stream",
     "text": [
      "55\n"
     ]
    }
   ],
   "source": [
    "# program to print sum of 1 to 10 numbers\n",
    "\n",
    "total = 0\n",
    "for i in range(1, 11):\n",
    "    total += i\n",
    "print(total)"
   ]
  },
  {
   "cell_type": "code",
   "execution_count": 19,
   "id": "8c79a936",
   "metadata": {},
   "outputs": [
    {
     "name": "stdout",
     "output_type": "stream",
     "text": [
      "Enter the value: 10\n",
      "55\n"
     ]
    }
   ],
   "source": [
    "val = int(input(\"Enter the value: \"))\n",
    "total = 0\n",
    "for i in range(val+1):\n",
    "    total += i\n",
    "print(total)"
   ]
  },
  {
   "cell_type": "code",
   "execution_count": 20,
   "id": "1cb0f7cf",
   "metadata": {},
   "outputs": [
    {
     "name": "stdout",
     "output_type": "stream",
     "text": [
      "Enter the start value: 10\n",
      "Enter the end value: 20\n",
      "165\n"
     ]
    }
   ],
   "source": [
    "start = int(input(\"Enter the start value: \"))\n",
    "end = int(input(\"Enter the end value: \"))\n",
    "total = 0\n",
    "for i in range(start, end+1):\n",
    "    total += i\n",
    "print(total)"
   ]
  },
  {
   "cell_type": "code",
   "execution_count": 25,
   "id": "f71a7c83",
   "metadata": {},
   "outputs": [
    {
     "name": "stdout",
     "output_type": "stream",
     "text": [
      "Enter a number: 10\n",
      "1 2 5 10 "
     ]
    }
   ],
   "source": [
    "# program to find the factors for a number\n",
    "\n",
    "num = int(input(\"Enter a number: \"))\n",
    "for i in range(1, num+1):\n",
    "    if num % i == 0:\n",
    "        print(i, end = \" \")"
   ]
  },
  {
   "cell_type": "code",
   "execution_count": 27,
   "id": "64ffdcf1",
   "metadata": {},
   "outputs": [
    {
     "name": "stdout",
     "output_type": "stream",
     "text": [
      "Enter the value: 5\n",
      "120\n"
     ]
    }
   ],
   "source": [
    "# program to find the factorial of number\n",
    "\n",
    "fact = 1\n",
    "val = int(input(\"Enter the value: \"))\n",
    "for i in range(1, val+1):\n",
    "    fact *= i\n",
    "print(fact)"
   ]
  },
  {
   "cell_type": "code",
   "execution_count": 30,
   "id": "8c1c4aaa",
   "metadata": {},
   "outputs": [
    {
     "name": "stdout",
     "output_type": "stream",
     "text": [
      "Enter the value: 5\n",
      "120\n"
     ]
    }
   ],
   "source": [
    "fact = 1\n",
    "val = int(input(\"Enter the value: \"))\n",
    "for i in range(val, 0, -1):\n",
    "    fact = fact * i\n",
    "print(fact)"
   ]
  },
  {
   "cell_type": "code",
   "execution_count": 40,
   "id": "74bf8c6a",
   "metadata": {},
   "outputs": [
    {
     "name": "stdout",
     "output_type": "stream",
     "text": [
      "Enter a number: 20\n",
      "20 is having 6 factors\n",
      "20 is not a prime number\n"
     ]
    }
   ],
   "source": [
    "# program to check whether a given number is prime number or not\n",
    "\n",
    "num = int(input(\"Enter a number: \"))\n",
    "count = 0\n",
    "for i in range(1, num+1):\n",
    "    if num % i == 0:\n",
    "        count += 1\n",
    "print(f\"{num} is having {count} factors\")\n",
    "if count == 2:\n",
    "    print(f\"{num} is a prime number\")\n",
    "else:\n",
    "    print(f\"{num} is not a prime number\")"
   ]
  },
  {
   "cell_type": "code",
   "execution_count": 45,
   "id": "8ee51363",
   "metadata": {},
   "outputs": [
    {
     "name": "stdout",
     "output_type": "stream",
     "text": [
      "Enter a number: 28\n",
      "28 is a perfect number\n"
     ]
    }
   ],
   "source": [
    "# program to check whether a given number is perfect number or not.\n",
    "# perfect number, a positive integer that is equal to the sum of its proper divisors.\n",
    "\n",
    "num = int(input(\"Enter a number: \"))\n",
    "total = 0\n",
    "for i in range(1, num):\n",
    "    if num % i == 0:\n",
    "        total += i\n",
    "if total == num:\n",
    "    print(f\"{num} is a perfect number\")\n",
    "else:\n",
    "    print(f\"{num} is not a perfect number\")"
   ]
  },
  {
   "cell_type": "code",
   "execution_count": null,
   "id": "91015a74",
   "metadata": {},
   "outputs": [],
   "source": []
  }
 ],
 "metadata": {
  "kernelspec": {
   "display_name": "Python 3 (ipykernel)",
   "language": "python",
   "name": "python3"
  },
  "language_info": {
   "codemirror_mode": {
    "name": "ipython",
    "version": 3
   },
   "file_extension": ".py",
   "mimetype": "text/x-python",
   "name": "python",
   "nbconvert_exporter": "python",
   "pygments_lexer": "ipython3",
   "version": "3.10.9"
  }
 },
 "nbformat": 4,
 "nbformat_minor": 5
}
