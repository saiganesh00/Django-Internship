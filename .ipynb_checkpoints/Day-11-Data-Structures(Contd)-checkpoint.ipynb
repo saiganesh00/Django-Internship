{
 "cells": [
  {
   "cell_type": "markdown",
   "id": "afaed13b",
   "metadata": {},
   "source": [
    "### List Methods"
   ]
  },
  {
   "cell_type": "code",
   "execution_count": 1,
   "id": "607932a5",
   "metadata": {},
   "outputs": [
    {
     "name": "stdout",
     "output_type": "stream",
     "text": [
      "['__add__', '__class__', '__class_getitem__', '__contains__', '__delattr__', '__delitem__', '__dir__', '__doc__', '__eq__', '__format__', '__ge__', '__getattribute__', '__getitem__', '__gt__', '__hash__', '__iadd__', '__imul__', '__init__', '__init_subclass__', '__iter__', '__le__', '__len__', '__lt__', '__mul__', '__ne__', '__new__', '__reduce__', '__reduce_ex__', '__repr__', '__reversed__', '__rmul__', '__setattr__', '__setitem__', '__sizeof__', '__str__', '__subclasshook__', 'append', 'clear', 'copy', 'count', 'extend', 'index', 'insert', 'pop', 'remove', 'reverse', 'sort']\n"
     ]
    }
   ],
   "source": [
    "print(dir(list))"
   ]
  },
  {
   "cell_type": "code",
   "execution_count": 2,
   "id": "e6d1fd3b",
   "metadata": {},
   "outputs": [
    {
     "name": "stdout",
     "output_type": "stream",
     "text": [
      "[1, 2, 3, 1, 2, 3, 1, 2, 3, 4, 5, 6]\n"
     ]
    }
   ],
   "source": [
    "li = [1, 2, 3, 1, 2, 3, 1, 2, 3, 4, 5, 6]\n",
    "print(li)"
   ]
  },
  {
   "cell_type": "code",
   "execution_count": 4,
   "id": "a3f72af0",
   "metadata": {},
   "outputs": [
    {
     "name": "stdout",
     "output_type": "stream",
     "text": [
      "3\n",
      "1\n"
     ]
    }
   ],
   "source": [
    "# count() ---> Returns count of an item in the list\n",
    "\n",
    "print(li.count(1))\n",
    "print(li.count(5))"
   ]
  },
  {
   "cell_type": "code",
   "execution_count": 5,
   "id": "f8c20f18",
   "metadata": {},
   "outputs": [
    {
     "name": "stdout",
     "output_type": "stream",
     "text": [
      "9\n",
      "11\n"
     ]
    }
   ],
   "source": [
    "# indexx()  ---> Returns the index of an item in the list\n",
    "\n",
    "print(li.index(4))\n",
    "print(li.index(6))"
   ]
  },
  {
   "cell_type": "code",
   "execution_count": 6,
   "id": "efff74ed",
   "metadata": {},
   "outputs": [
    {
     "name": "stdout",
     "output_type": "stream",
     "text": [
      "[1, 45, 2, 3, 55, 1, 2, 3, 1, 2, 3, 4, 5, 6]\n"
     ]
    }
   ],
   "source": [
    "# insert()  ---> Used to insert an element at a particular index in the list\n",
    "\n",
    "li.insert(1,45)\n",
    "li.insert(4, 55)\n",
    "print(li)"
   ]
  },
  {
   "cell_type": "code",
   "execution_count": 7,
   "id": "0a947ef4",
   "metadata": {},
   "outputs": [
    {
     "name": "stdout",
     "output_type": "stream",
     "text": [
      "Removed item: 6\n",
      "[1, 45, 2, 3, 55, 1, 2, 3, 1, 2, 3, 4, 5]\n"
     ]
    }
   ],
   "source": [
    "# pop()   ---> Removes an item at the end of the list and returns it.\n",
    "\n",
    "removed_item = li.pop()\n",
    "print(f\"Removed item: {removed_item}\")\n",
    "print(li)"
   ]
  },
  {
   "cell_type": "code",
   "execution_count": 10,
   "id": "4c540c38",
   "metadata": {},
   "outputs": [
    {
     "name": "stdout",
     "output_type": "stream",
     "text": [
      "[1, 45, 2, 3, 1, 2, 3, 1, 2, 3, 4, 5]\n",
      "[1, 2, 3, 1, 2, 3, 1, 2, 3, 4, 5]\n"
     ]
    }
   ],
   "source": [
    "# remove()   ---> removes an item of the list\n",
    "\n",
    "print(li)\n",
    "# li.remove(55)\n",
    "li.remove(45)\n",
    "print(li)"
   ]
  },
  {
   "cell_type": "code",
   "execution_count": 11,
   "id": "0fadceb8",
   "metadata": {},
   "outputs": [
    {
     "name": "stdout",
     "output_type": "stream",
     "text": [
      "Original List: [1, 2, 3, 1, 2, 3, 1, 2, 3, 4, 5]\n",
      "Copied List: [1, 2, 3, 1, 2, 3, 1, 2, 3, 4, 5]\n"
     ]
    }
   ],
   "source": [
    "# copy()   ---> Copies a list into new list\n",
    "\n",
    "list1 = li.copy()\n",
    "print(f\"Original List: {li}\")\n",
    "print(f\"Copied List: {list1}\")"
   ]
  },
  {
   "cell_type": "code",
   "execution_count": 12,
   "id": "81cc637f",
   "metadata": {},
   "outputs": [
    {
     "name": "stdout",
     "output_type": "stream",
     "text": [
      "[5, 4, 3, 2, 1, 3, 2, 1, 3, 2, 1]\n"
     ]
    }
   ],
   "source": [
    "# reverse of a list \n",
    "\n",
    "print(li[::-1])"
   ]
  },
  {
   "cell_type": "code",
   "execution_count": 15,
   "id": "5dbcc6aa",
   "metadata": {},
   "outputs": [
    {
     "name": "stdout",
     "output_type": "stream",
     "text": [
      "[1, 1, 1, 2, 2, 2, 3, 3, 3, 4, 5]\n"
     ]
    }
   ],
   "source": [
    "# sort()\n",
    "\n",
    "li.sort()\n",
    "print(li)"
   ]
  },
  {
   "cell_type": "code",
   "execution_count": 16,
   "id": "34cd1fdc",
   "metadata": {},
   "outputs": [
    {
     "name": "stdout",
     "output_type": "stream",
     "text": [
      "1 1 1 2 2 2 3 3 3 4 5 "
     ]
    }
   ],
   "source": [
    "# printing a list using for-loop\n",
    "\n",
    "for item in li:\n",
    "    print(item, end = \" \")"
   ]
  },
  {
   "cell_type": "code",
   "execution_count": 17,
   "id": "1291b936",
   "metadata": {},
   "outputs": [
    {
     "name": "stdout",
     "output_type": "stream",
     "text": [
      "1 1 1 3 3 3 5 "
     ]
    }
   ],
   "source": [
    "# program to print the odd numbers present in the list\n",
    "\n",
    "for item in li:\n",
    "    if item%2 != 0:\n",
    "        print(item, end = \" \")"
   ]
  },
  {
   "cell_type": "code",
   "execution_count": 18,
   "id": "9c521ab8",
   "metadata": {},
   "outputs": [
    {
     "name": "stdout",
     "output_type": "stream",
     "text": [
      "Product of items in the list: 4320\n"
     ]
    }
   ],
   "source": [
    "# product numbers in the list\n",
    "\n",
    "prod = 1\n",
    "for item in li:\n",
    "    prod *= item\n",
    "print(f\"Product of items in the list: {prod}\")"
   ]
  },
  {
   "cell_type": "code",
   "execution_count": 19,
   "id": "51b2dc01",
   "metadata": {},
   "outputs": [
    {
     "name": "stdout",
     "output_type": "stream",
     "text": [
      "Sum of items: 27\n"
     ]
    }
   ],
   "source": [
    "# sum()  ---> Returns the sum of items in the list\n",
    "\n",
    "sum_items = sum(li)\n",
    "print(f\"Sum of items: {sum_items}\")"
   ]
  },
  {
   "cell_type": "code",
   "execution_count": 21,
   "id": "d3fb4109",
   "metadata": {},
   "outputs": [
    {
     "name": "stdout",
     "output_type": "stream",
     "text": [
      "Original List: [1, 1, 1, 2, 2, 2, 3, 3, 3, 4, 5]\n",
      "List after removing duplicates: [1, 2, 3, 4, 5]\n"
     ]
    }
   ],
   "source": [
    "# removing duplicates from a list\n",
    "\n",
    "list2 = []\n",
    "for item in li:\n",
    "    if item not in list2:\n",
    "        list2.append(item)\n",
    "    else:\n",
    "        continue\n",
    "print(f\"Original List: {li}\")\n",
    "print(f\"List after removing duplicates: {list2}\")"
   ]
  },
  {
   "cell_type": "code",
   "execution_count": 23,
   "id": "58ec1c4e",
   "metadata": {},
   "outputs": [
    {
     "name": "stdout",
     "output_type": "stream",
     "text": [
      "4 5 Unique items list: [4, 5]\n"
     ]
    }
   ],
   "source": [
    "# Program to print unique items in a list\n",
    "\n",
    "uniqueList = []\n",
    "for item in li:\n",
    "    if li.count(item) == 1:\n",
    "        uniqueList.append(item)\n",
    "        print(item, end = \" \")\n",
    "    else:\n",
    "        continue\n",
    "print(f\"Unique items list: {uniqueList}\")"
   ]
  },
  {
   "cell_type": "markdown",
   "id": "d90ec745",
   "metadata": {},
   "source": [
    "## Tuple Data Structure\n",
    "    - TUple is a data structure used to multipe items\n",
    "    - It is am immutable data structure\n",
    "    - Represented by parenthesis\n",
    "    - Allows duplicates"
   ]
  },
  {
   "cell_type": "code",
   "execution_count": 24,
   "id": "c38542dc",
   "metadata": {},
   "outputs": [
    {
     "name": "stdout",
     "output_type": "stream",
     "text": [
      "<class 'tuple'>\n"
     ]
    }
   ],
   "source": [
    "tu = ()\n",
    "print(type(tu))"
   ]
  },
  {
   "cell_type": "code",
   "execution_count": 25,
   "id": "c14acc97",
   "metadata": {},
   "outputs": [
    {
     "name": "stdout",
     "output_type": "stream",
     "text": [
      "(1, 23.23, 'Hello', True)\n"
     ]
    }
   ],
   "source": [
    "tuple1 = (1, 23.23, \"Hello\", True)\n",
    "print(tuple1)"
   ]
  },
  {
   "cell_type": "code",
   "execution_count": 26,
   "id": "c8392e0d",
   "metadata": {},
   "outputs": [],
   "source": [
    "tuple2 = (1, 2, 3, 5, 45)"
   ]
  },
  {
   "cell_type": "code",
   "execution_count": 27,
   "id": "73c2660c",
   "metadata": {},
   "outputs": [
    {
     "name": "stdout",
     "output_type": "stream",
     "text": [
      "1\n"
     ]
    }
   ],
   "source": [
    "print(min(tuple2))"
   ]
  },
  {
   "cell_type": "code",
   "execution_count": 28,
   "id": "4ca83f77",
   "metadata": {},
   "outputs": [
    {
     "name": "stdout",
     "output_type": "stream",
     "text": [
      "45\n"
     ]
    }
   ],
   "source": [
    "print(max(tuple2))"
   ]
  },
  {
   "cell_type": "code",
   "execution_count": 29,
   "id": "77b5692a",
   "metadata": {},
   "outputs": [
    {
     "name": "stdout",
     "output_type": "stream",
     "text": [
      "56\n"
     ]
    }
   ],
   "source": [
    "print(sum(tuple2))"
   ]
  },
  {
   "cell_type": "markdown",
   "id": "bb6ef67c",
   "metadata": {},
   "source": [
    "### Tuple methods"
   ]
  },
  {
   "cell_type": "markdown",
   "id": "c6f49173",
   "metadata": {},
   "source": [
    "    - Only two methods are available for a tuple"
   ]
  },
  {
   "cell_type": "code",
   "execution_count": 30,
   "id": "eae9eb67",
   "metadata": {},
   "outputs": [
    {
     "name": "stdout",
     "output_type": "stream",
     "text": [
      "['__add__', '__class__', '__class_getitem__', '__contains__', '__delattr__', '__dir__', '__doc__', '__eq__', '__format__', '__ge__', '__getattribute__', '__getitem__', '__getnewargs__', '__gt__', '__hash__', '__init__', '__init_subclass__', '__iter__', '__le__', '__len__', '__lt__', '__mul__', '__ne__', '__new__', '__reduce__', '__reduce_ex__', '__repr__', '__rmul__', '__setattr__', '__sizeof__', '__str__', '__subclasshook__', 'count', 'index']\n"
     ]
    }
   ],
   "source": [
    "print(dir(tuple))"
   ]
  },
  {
   "cell_type": "code",
   "execution_count": 31,
   "id": "e0940bba",
   "metadata": {},
   "outputs": [
    {
     "name": "stdout",
     "output_type": "stream",
     "text": [
      "1\n"
     ]
    }
   ],
   "source": [
    "print(tuple2.count(2))"
   ]
  },
  {
   "cell_type": "code",
   "execution_count": 32,
   "id": "b2e73f42",
   "metadata": {},
   "outputs": [
    {
     "name": "stdout",
     "output_type": "stream",
     "text": [
      "4\n"
     ]
    }
   ],
   "source": [
    "print(tuple2.index(45))"
   ]
  },
  {
   "cell_type": "markdown",
   "id": "2926b9ba",
   "metadata": {},
   "source": [
    "## Dictonary Data Structure\n",
    "    - It is a key-value pair data structure\n",
    "    - Dictonary is mutable\n",
    "    - keys in dictonary does not allow duplicates\n",
    "    - values in dictonary allows duplicates\n",
    "    - It is represented by {key : value}"
   ]
  },
  {
   "cell_type": "code",
   "execution_count": 16,
   "id": "5a533e99",
   "metadata": {},
   "outputs": [
    {
     "name": "stdout",
     "output_type": "stream",
     "text": [
      "<class 'dict'>\n"
     ]
    }
   ],
   "source": [
    "di = {}\n",
    "print(type(di))"
   ]
  },
  {
   "cell_type": "code",
   "execution_count": 2,
   "id": "7f6b274f",
   "metadata": {},
   "outputs": [],
   "source": [
    "dict1 = {\"String\": \"Hello\", \"Integer\": 1, \"Float\": 3.14, \"Boolean\": True}"
   ]
  },
  {
   "cell_type": "code",
   "execution_count": 3,
   "id": "425d1c84",
   "metadata": {},
   "outputs": [
    {
     "name": "stdout",
     "output_type": "stream",
     "text": [
      "Dictonary:  {'String': 'Hello', 'Integer': 1, 'Float': 3.14, 'Boolean': True}\n"
     ]
    }
   ],
   "source": [
    "print(\"Dictonary: \", dict1)"
   ]
  },
  {
   "cell_type": "markdown",
   "id": "740e9b4d",
   "metadata": {},
   "source": [
    "#### Accessing dictonary items\n"
   ]
  },
  {
   "cell_type": "code",
   "execution_count": 4,
   "id": "42c27edf",
   "metadata": {},
   "outputs": [
    {
     "name": "stdout",
     "output_type": "stream",
     "text": [
      "Hello\n",
      "1\n",
      "True\n"
     ]
    }
   ],
   "source": [
    "print(dict1[\"String\"])\n",
    "print(dict1[\"Integer\"])\n",
    "print(dict1[\"Boolean\"])"
   ]
  },
  {
   "cell_type": "markdown",
   "id": "43ad219e",
   "metadata": {},
   "source": [
    "### Dictonary Methods\n"
   ]
  },
  {
   "cell_type": "code",
   "execution_count": 5,
   "id": "dbca08c1",
   "metadata": {},
   "outputs": [
    {
     "name": "stdout",
     "output_type": "stream",
     "text": [
      "['__class__', '__class_getitem__', '__contains__', '__delattr__', '__delitem__', '__dir__', '__doc__', '__eq__', '__format__', '__ge__', '__getattribute__', '__getitem__', '__gt__', '__hash__', '__init__', '__init_subclass__', '__ior__', '__iter__', '__le__', '__len__', '__lt__', '__ne__', '__new__', '__or__', '__reduce__', '__reduce_ex__', '__repr__', '__reversed__', '__ror__', '__setattr__', '__setitem__', '__sizeof__', '__str__', '__subclasshook__', 'clear', 'copy', 'fromkeys', 'get', 'items', 'keys', 'pop', 'popitem', 'setdefault', 'update', 'values']\n"
     ]
    }
   ],
   "source": [
    "print(dir(dict))"
   ]
  },
  {
   "cell_type": "code",
   "execution_count": 6,
   "id": "a220eec8",
   "metadata": {},
   "outputs": [
    {
     "name": "stdout",
     "output_type": "stream",
     "text": [
      "Keys of the dictonary: dict_keys(['String', 'Integer', 'Float', 'Boolean'])\n"
     ]
    }
   ],
   "source": [
    "# keys()  ---> Returns a list of containing keys of the dictonary\n",
    "\n",
    "keys = dict1.keys()\n",
    "print(f\"Keys of the dictonary: {keys}\")"
   ]
  },
  {
   "cell_type": "code",
   "execution_count": 7,
   "id": "7a22bccf",
   "metadata": {},
   "outputs": [
    {
     "name": "stdout",
     "output_type": "stream",
     "text": [
      "Values of the dictonary: dict_values(['Hello', 1, 3.14, True])\n"
     ]
    }
   ],
   "source": [
    "# values() ---> returns a list of values of dictonary\n",
    "\n",
    "values = dict1.values()\n",
    "print(f\"Values of the dictonary: {values}\")"
   ]
  },
  {
   "cell_type": "code",
   "execution_count": 8,
   "id": "81df8ef1",
   "metadata": {},
   "outputs": [
    {
     "name": "stdout",
     "output_type": "stream",
     "text": [
      "dict_items([('String', 'Hello'), ('Integer', 1), ('Float', 3.14), ('Boolean', True)])\n"
     ]
    }
   ],
   "source": [
    "# items()   ---> returns a tuple containing keys and values\n",
    "\n",
    "items = dict1.items()\n",
    "print(items)"
   ]
  },
  {
   "cell_type": "code",
   "execution_count": 9,
   "id": "ebddccb2",
   "metadata": {},
   "outputs": [
    {
     "name": "stdout",
     "output_type": "stream",
     "text": [
      "1\n"
     ]
    }
   ],
   "source": [
    "# get()   ---> returns the value for a paricular key\n",
    "\n",
    "val = dict1.get(\"Integer\")\n",
    "print(val)"
   ]
  },
  {
   "cell_type": "code",
   "execution_count": 11,
   "id": "667e007f",
   "metadata": {},
   "outputs": [
    {
     "name": "stdout",
     "output_type": "stream",
     "text": [
      "Popped Value: Hello\n"
     ]
    }
   ],
   "source": [
    "# pop()   ---> removes the value for a key and reutrns it\n",
    "\n",
    "poppedValue = dict1.pop(\"String\")\n",
    "print(f\"Popped Value: {poppedValue}\")"
   ]
  },
  {
   "cell_type": "code",
   "execution_count": 12,
   "id": "4c59cdfa",
   "metadata": {},
   "outputs": [
    {
     "name": "stdout",
     "output_type": "stream",
     "text": [
      "{'Integer': 1, 'Float': 3.14, 'Boolean': True}\n"
     ]
    }
   ],
   "source": [
    "print(dict1)"
   ]
  },
  {
   "cell_type": "code",
   "execution_count": 13,
   "id": "f418545d",
   "metadata": {},
   "outputs": [
    {
     "name": "stdout",
     "output_type": "stream",
     "text": [
      "Popped Item: ('Boolean', True)\n"
     ]
    }
   ],
   "source": [
    "# popitem()   ---> removes the last key value pair and reutrns it.\n",
    "\n",
    "poppedItem = dict1.popitem()\n",
    "print(f'Popped Item: {poppedItem}')"
   ]
  },
  {
   "cell_type": "code",
   "execution_count": 14,
   "id": "257fe0b4",
   "metadata": {},
   "outputs": [
    {
     "name": "stdout",
     "output_type": "stream",
     "text": [
      "Original Dictonary: {'Integer': 1, 'Float': 3.14}\n",
      "Copied Dictonary: {'Integer': 1, 'Float': 3.14}\n"
     ]
    }
   ],
   "source": [
    "# copy()  ---> returns a copy of dictonary\n",
    "\n",
    "dict2 = dict1.copy()\n",
    "print(f\"Original Dictonary: {dict1}\")\n",
    "print(f\"Copied Dictonary: {dict2}\")"
   ]
  },
  {
   "cell_type": "code",
   "execution_count": 15,
   "id": "3dfdfed5",
   "metadata": {},
   "outputs": [
    {
     "name": "stdout",
     "output_type": "stream",
     "text": [
      "Orignal Dictonary: {'Integer': 1, 'Float': 3.14}\n",
      "Updated Dictonary: {'Integer': 1, 'Float': 3.14, 'String': 'Hello', 'Boolean': True, 6: 123}\n"
     ]
    }
   ],
   "source": [
    "# update()  ---> update the dictonary with the elements from another dictonary\n",
    "\n",
    "print(f\"Orignal Dictonary: {dict1}\")\n",
    "dict1.update({'String': 'Hello', 'Boolean': True, 6:123})\n",
    "print(f\"Updated Dictonary: {dict1}\")"
   ]
  },
  {
   "cell_type": "code",
   "execution_count": 18,
   "id": "6343fcae",
   "metadata": {},
   "outputs": [
    {
     "name": "stdout",
     "output_type": "stream",
     "text": [
      "{'3': 10, '4': 10, '5': 10, '6': 10, '7': 10}\n",
      "{}\n"
     ]
    }
   ],
   "source": [
    "# fromkeys() \n",
    "\n",
    "print(di.fromkeys(\"34567\", 10))\n",
    "print(di)"
   ]
  },
  {
   "cell_type": "code",
   "execution_count": 20,
   "id": "d1470fab",
   "metadata": {},
   "outputs": [
    {
     "name": "stdout",
     "output_type": "stream",
     "text": [
      "{'Even': 24, 'odd': 23}\n",
      "value: 24\n",
      "{'Even': 24, 'odd': 23, 'Zero': 0}\n"
     ]
    }
   ],
   "source": [
    "# setdefault()   ---> returns the value of a key if the key is present in dictonary\n",
    "# else, it inserts a key with the default value to the dictonary\n",
    "\n",
    "di.update({\"Even\": 24, \"odd\": 23})\n",
    "print(di)\n",
    "val = di.setdefault(\"Even\")\n",
    "print(f\"value: {val}\")\n",
    "di.setdefault(\"Zero\", 0)\n",
    "print(di)"
   ]
  },
  {
   "cell_type": "code",
   "execution_count": null,
   "id": "0eb9da08",
   "metadata": {},
   "outputs": [],
   "source": []
  }
 ],
 "metadata": {
  "kernelspec": {
   "display_name": "Python 3 (ipykernel)",
   "language": "python",
   "name": "python3"
  },
  "language_info": {
   "codemirror_mode": {
    "name": "ipython",
    "version": 3
   },
   "file_extension": ".py",
   "mimetype": "text/x-python",
   "name": "python",
   "nbconvert_exporter": "python",
   "pygments_lexer": "ipython3",
   "version": "3.10.9"
  }
 },
 "nbformat": 4,
 "nbformat_minor": 5
}
